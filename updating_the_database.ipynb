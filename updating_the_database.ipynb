{
 "cells": [
  {
   "cell_type": "code",
   "execution_count": 6,
   "metadata": {},
   "outputs": [],
   "source": [
    "import os\n",
    "import sys"
   ]
  },
  {
   "cell_type": "markdown",
   "metadata": {},
   "source": [
    "## Add new files to the Database  \n",
    "\n",
    "We need to convert the new files into *even newer* files that have column labeled headers. We'll use the `convert_new_files` function to do this."
   ]
  },
  {
   "cell_type": "code",
   "execution_count": 7,
   "metadata": {},
   "outputs": [],
   "source": [
    "from spectrum_class import convert_new_files"
   ]
  },
  {
   "cell_type": "markdown",
   "metadata": {},
   "source": [
    "Specify the directory containing the new raw spectrum files and the directory that houses all the spectra in the database:"
   ]
  },
  {
   "cell_type": "code",
   "execution_count": 8,
   "metadata": {},
   "outputs": [],
   "source": [
    "new_files_dir = \"original_files/TRAPPIST-1_Lincowski2018/\"\n",
    "spec_data_dir = \"spectrum_files/\""
   ]
  },
  {
   "cell_type": "markdown",
   "metadata": {},
   "source": [
    "Convert all `*.rad` and `*.trnst` files to `*.flx` and `*.trn`, respectively:"
   ]
  },
  {
   "cell_type": "code",
   "execution_count": 9,
   "metadata": {},
   "outputs": [
    {
     "name": "stderr",
     "output_type": "stream",
     "text": [
      "spectrum_class.py:487: RuntimeWarning: invalid value encountered in divide\n",
      "  refl = flx/solflx\n"
     ]
    }
   ],
   "source": [
    "convert_new_files(new_files_dir)"
   ]
  },
  {
   "cell_type": "markdown",
   "metadata": {},
   "source": [
    "Move all new files into `spectrum_files/` directory:"
   ]
  },
  {
   "cell_type": "code",
   "execution_count": 10,
   "metadata": {
    "scrolled": false
   },
   "outputs": [
    {
     "name": "stdout",
     "output_type": "stream",
     "text": [
      "original_files/TRAPPIST-1_Lincowski2018/trappist1_co2_10bar_b_smart_spectra.trn --> spectrum_files/trappist1_co2_10bar_b_smart_spectra.trn\n",
      "original_files/TRAPPIST-1_Lincowski2018/trappist1_co2_10bar_b_smart_spectra_toa.flx --> spectrum_files/trappist1_co2_10bar_b_smart_spectra_toa.flx\n",
      "original_files/TRAPPIST-1_Lincowski2018/trappist1_co2_10bar_c_smart_spectra.trn --> spectrum_files/trappist1_co2_10bar_c_smart_spectra.trn\n",
      "original_files/TRAPPIST-1_Lincowski2018/trappist1_co2_10bar_c_smart_spectra_toa.flx --> spectrum_files/trappist1_co2_10bar_c_smart_spectra_toa.flx\n",
      "original_files/TRAPPIST-1_Lincowski2018/trappist1_co2_10bar_d_smart_spectra.trn --> spectrum_files/trappist1_co2_10bar_d_smart_spectra.trn\n",
      "original_files/TRAPPIST-1_Lincowski2018/trappist1_co2_10bar_d_smart_spectra_toa.flx --> spectrum_files/trappist1_co2_10bar_d_smart_spectra_toa.flx\n",
      "original_files/TRAPPIST-1_Lincowski2018/trappist1_co2_10bar_e_smart_spectra.trn --> spectrum_files/trappist1_co2_10bar_e_smart_spectra.trn\n",
      "original_files/TRAPPIST-1_Lincowski2018/trappist1_co2_10bar_e_smart_spectra_toa.flx --> spectrum_files/trappist1_co2_10bar_e_smart_spectra_toa.flx\n",
      "original_files/TRAPPIST-1_Lincowski2018/trappist1_co2_10bar_f_smart_spectra.trn --> spectrum_files/trappist1_co2_10bar_f_smart_spectra.trn\n",
      "original_files/TRAPPIST-1_Lincowski2018/trappist1_co2_10bar_f_smart_spectra_toa.flx --> spectrum_files/trappist1_co2_10bar_f_smart_spectra_toa.flx\n",
      "original_files/TRAPPIST-1_Lincowski2018/trappist1_co2_10bar_g_smart_spectra.trn --> spectrum_files/trappist1_co2_10bar_g_smart_spectra.trn\n",
      "original_files/TRAPPIST-1_Lincowski2018/trappist1_co2_10bar_g_smart_spectra_toa.flx --> spectrum_files/trappist1_co2_10bar_g_smart_spectra_toa.flx\n",
      "original_files/TRAPPIST-1_Lincowski2018/trappist1_co2_10bar_h_smart_spectra.trn --> spectrum_files/trappist1_co2_10bar_h_smart_spectra.trn\n",
      "original_files/TRAPPIST-1_Lincowski2018/trappist1_co2_10bar_h_smart_spectra_toa.flx --> spectrum_files/trappist1_co2_10bar_h_smart_spectra_toa.flx\n",
      "original_files/TRAPPIST-1_Lincowski2018/trappist1_co2_93bar_b_smart_spectra.trn --> spectrum_files/trappist1_co2_93bar_b_smart_spectra.trn\n",
      "original_files/TRAPPIST-1_Lincowski2018/trappist1_co2_93bar_b_smart_spectra_toa.flx --> spectrum_files/trappist1_co2_93bar_b_smart_spectra_toa.flx\n",
      "original_files/TRAPPIST-1_Lincowski2018/trappist1_co2_93bar_c_smart_spectra.trn --> spectrum_files/trappist1_co2_93bar_c_smart_spectra.trn\n",
      "original_files/TRAPPIST-1_Lincowski2018/trappist1_co2_93bar_c_smart_spectra_toa.flx --> spectrum_files/trappist1_co2_93bar_c_smart_spectra_toa.flx\n",
      "original_files/TRAPPIST-1_Lincowski2018/trappist1_co2_93bar_d_smart_spectra.trn --> spectrum_files/trappist1_co2_93bar_d_smart_spectra.trn\n",
      "original_files/TRAPPIST-1_Lincowski2018/trappist1_co2_93bar_d_smart_spectra_toa.flx --> spectrum_files/trappist1_co2_93bar_d_smart_spectra_toa.flx\n",
      "original_files/TRAPPIST-1_Lincowski2018/trappist1_co2_93bar_e_smart_spectra.trn --> spectrum_files/trappist1_co2_93bar_e_smart_spectra.trn\n",
      "original_files/TRAPPIST-1_Lincowski2018/trappist1_co2_93bar_e_smart_spectra_toa.flx --> spectrum_files/trappist1_co2_93bar_e_smart_spectra_toa.flx\n",
      "original_files/TRAPPIST-1_Lincowski2018/trappist1_co2_93bar_f_smart_spectra.trn --> spectrum_files/trappist1_co2_93bar_f_smart_spectra.trn\n",
      "original_files/TRAPPIST-1_Lincowski2018/trappist1_co2_93bar_f_smart_spectra_toa.flx --> spectrum_files/trappist1_co2_93bar_f_smart_spectra_toa.flx\n",
      "original_files/TRAPPIST-1_Lincowski2018/trappist1_co2_93bar_g_smart_spectra.trn --> spectrum_files/trappist1_co2_93bar_g_smart_spectra.trn\n",
      "original_files/TRAPPIST-1_Lincowski2018/trappist1_co2_93bar_g_smart_spectra_toa.flx --> spectrum_files/trappist1_co2_93bar_g_smart_spectra_toa.flx\n",
      "original_files/TRAPPIST-1_Lincowski2018/trappist1_co2_93bar_h_smart_spectra.trn --> spectrum_files/trappist1_co2_93bar_h_smart_spectra.trn\n",
      "original_files/TRAPPIST-1_Lincowski2018/trappist1_co2_93bar_h_smart_spectra_toa.flx --> spectrum_files/trappist1_co2_93bar_h_smart_spectra_toa.flx\n",
      "original_files/TRAPPIST-1_Lincowski2018/trappist1_h2o_cld_ocean_1bar_e_smart_spectra.trn --> spectrum_files/trappist1_h2o_cld_ocean_1bar_e_smart_spectra.trn\n",
      "original_files/TRAPPIST-1_Lincowski2018/trappist1_h2o_cld_ocean_1bar_e_smart_spectra_toa.flx --> spectrum_files/trappist1_h2o_cld_ocean_1bar_e_smart_spectra_toa.flx\n",
      "original_files/TRAPPIST-1_Lincowski2018/trappist1_h2o_ocean_1bar_e_smart_spectra.trn --> spectrum_files/trappist1_h2o_ocean_1bar_e_smart_spectra.trn\n",
      "original_files/TRAPPIST-1_Lincowski2018/trappist1_h2o_ocean_1bar_e_smart_spectra_toa.flx --> spectrum_files/trappist1_h2o_ocean_1bar_e_smart_spectra_toa.flx\n",
      "original_files/TRAPPIST-1_Lincowski2018/trappist1_o2_100bar_b_smart_spectra.trn --> spectrum_files/trappist1_o2_100bar_b_smart_spectra.trn\n",
      "original_files/TRAPPIST-1_Lincowski2018/trappist1_o2_100bar_b_smart_spectra_toa.flx --> spectrum_files/trappist1_o2_100bar_b_smart_spectra_toa.flx\n",
      "original_files/TRAPPIST-1_Lincowski2018/trappist1_o2_100bar_c_smart_spectra.trn --> spectrum_files/trappist1_o2_100bar_c_smart_spectra.trn\n",
      "original_files/TRAPPIST-1_Lincowski2018/trappist1_o2_100bar_c_smart_spectra_toa.flx --> spectrum_files/trappist1_o2_100bar_c_smart_spectra_toa.flx\n",
      "original_files/TRAPPIST-1_Lincowski2018/trappist1_o2_100bar_d_smart_spectra.trn --> spectrum_files/trappist1_o2_100bar_d_smart_spectra.trn\n",
      "original_files/TRAPPIST-1_Lincowski2018/trappist1_o2_100bar_d_smart_spectra_toa.flx --> spectrum_files/trappist1_o2_100bar_d_smart_spectra_toa.flx\n",
      "original_files/TRAPPIST-1_Lincowski2018/trappist1_o2_100bar_e_smart_spectra.trn --> spectrum_files/trappist1_o2_100bar_e_smart_spectra.trn\n",
      "original_files/TRAPPIST-1_Lincowski2018/trappist1_o2_100bar_e_smart_spectra_toa.flx --> spectrum_files/trappist1_o2_100bar_e_smart_spectra_toa.flx\n",
      "original_files/TRAPPIST-1_Lincowski2018/trappist1_o2_100bar_f_smart_spectra.trn --> spectrum_files/trappist1_o2_100bar_f_smart_spectra.trn\n",
      "original_files/TRAPPIST-1_Lincowski2018/trappist1_o2_100bar_f_smart_spectra_toa.flx --> spectrum_files/trappist1_o2_100bar_f_smart_spectra_toa.flx\n",
      "original_files/TRAPPIST-1_Lincowski2018/trappist1_o2_100bar_g_smart_spectra.trn --> spectrum_files/trappist1_o2_100bar_g_smart_spectra.trn\n",
      "original_files/TRAPPIST-1_Lincowski2018/trappist1_o2_100bar_g_smart_spectra_toa.flx --> spectrum_files/trappist1_o2_100bar_g_smart_spectra_toa.flx\n",
      "original_files/TRAPPIST-1_Lincowski2018/trappist1_o2_100bar_h_smart_spectra.trn --> spectrum_files/trappist1_o2_100bar_h_smart_spectra.trn\n",
      "original_files/TRAPPIST-1_Lincowski2018/trappist1_o2_100bar_h_smart_spectra_toa.flx --> spectrum_files/trappist1_o2_100bar_h_smart_spectra_toa.flx\n",
      "original_files/TRAPPIST-1_Lincowski2018/trappist1_o2_10bar_b_smart_spectra.trn --> spectrum_files/trappist1_o2_10bar_b_smart_spectra.trn\n",
      "original_files/TRAPPIST-1_Lincowski2018/trappist1_o2_10bar_b_smart_spectra_toa.flx --> spectrum_files/trappist1_o2_10bar_b_smart_spectra_toa.flx\n",
      "original_files/TRAPPIST-1_Lincowski2018/trappist1_o2_10bar_c_smart_spectra.trn --> spectrum_files/trappist1_o2_10bar_c_smart_spectra.trn\n",
      "original_files/TRAPPIST-1_Lincowski2018/trappist1_o2_10bar_c_smart_spectra_toa.flx --> spectrum_files/trappist1_o2_10bar_c_smart_spectra_toa.flx\n",
      "original_files/TRAPPIST-1_Lincowski2018/trappist1_o2_10bar_d_smart_spectra.trn --> spectrum_files/trappist1_o2_10bar_d_smart_spectra.trn\n",
      "original_files/TRAPPIST-1_Lincowski2018/trappist1_o2_10bar_d_smart_spectra_toa.flx --> spectrum_files/trappist1_o2_10bar_d_smart_spectra_toa.flx\n",
      "original_files/TRAPPIST-1_Lincowski2018/trappist1_o2_10bar_e_smart_spectra.trn --> spectrum_files/trappist1_o2_10bar_e_smart_spectra.trn\n",
      "original_files/TRAPPIST-1_Lincowski2018/trappist1_o2_10bar_e_smart_spectra_toa.flx --> spectrum_files/trappist1_o2_10bar_e_smart_spectra_toa.flx\n",
      "original_files/TRAPPIST-1_Lincowski2018/trappist1_o2_10bar_f_smart_spectra.trn --> spectrum_files/trappist1_o2_10bar_f_smart_spectra.trn\n",
      "original_files/TRAPPIST-1_Lincowski2018/trappist1_o2_10bar_f_smart_spectra_toa.flx --> spectrum_files/trappist1_o2_10bar_f_smart_spectra_toa.flx\n",
      "original_files/TRAPPIST-1_Lincowski2018/trappist1_o2_10bar_g_smart_spectra.trn --> spectrum_files/trappist1_o2_10bar_g_smart_spectra.trn\n",
      "original_files/TRAPPIST-1_Lincowski2018/trappist1_o2_10bar_g_smart_spectra_toa.flx --> spectrum_files/trappist1_o2_10bar_g_smart_spectra_toa.flx\n",
      "original_files/TRAPPIST-1_Lincowski2018/trappist1_o2_10bar_h_smart_spectra.trn --> spectrum_files/trappist1_o2_10bar_h_smart_spectra.trn\n",
      "original_files/TRAPPIST-1_Lincowski2018/trappist1_o2_10bar_h_smart_spectra_toa.flx --> spectrum_files/trappist1_o2_10bar_h_smart_spectra_toa.flx\n",
      "original_files/TRAPPIST-1_Lincowski2018/trappist1_o2_dry_100bar_b_smart_spectra.trn --> spectrum_files/trappist1_o2_dry_100bar_b_smart_spectra.trn\n",
      "original_files/TRAPPIST-1_Lincowski2018/trappist1_o2_dry_100bar_b_smart_spectra_toa.flx --> spectrum_files/trappist1_o2_dry_100bar_b_smart_spectra_toa.flx\n",
      "original_files/TRAPPIST-1_Lincowski2018/trappist1_o2_dry_100bar_c_smart_spectra.trn --> spectrum_files/trappist1_o2_dry_100bar_c_smart_spectra.trn\n",
      "original_files/TRAPPIST-1_Lincowski2018/trappist1_o2_dry_100bar_c_smart_spectra_toa.flx --> spectrum_files/trappist1_o2_dry_100bar_c_smart_spectra_toa.flx\n",
      "original_files/TRAPPIST-1_Lincowski2018/trappist1_o2_dry_100bar_d_smart_spectra.trn --> spectrum_files/trappist1_o2_dry_100bar_d_smart_spectra.trn\n",
      "original_files/TRAPPIST-1_Lincowski2018/trappist1_o2_dry_100bar_d_smart_spectra_toa.flx --> spectrum_files/trappist1_o2_dry_100bar_d_smart_spectra_toa.flx\n",
      "original_files/TRAPPIST-1_Lincowski2018/trappist1_o2_dry_100bar_e_smart_spectra.trn --> spectrum_files/trappist1_o2_dry_100bar_e_smart_spectra.trn\n",
      "original_files/TRAPPIST-1_Lincowski2018/trappist1_o2_dry_100bar_e_smart_spectra_toa.flx --> spectrum_files/trappist1_o2_dry_100bar_e_smart_spectra_toa.flx\n",
      "original_files/TRAPPIST-1_Lincowski2018/trappist1_o2_dry_100bar_f_smart_spectra.trn --> spectrum_files/trappist1_o2_dry_100bar_f_smart_spectra.trn\n",
      "original_files/TRAPPIST-1_Lincowski2018/trappist1_o2_dry_100bar_f_smart_spectra_toa.flx --> spectrum_files/trappist1_o2_dry_100bar_f_smart_spectra_toa.flx\n",
      "original_files/TRAPPIST-1_Lincowski2018/trappist1_o2_dry_100bar_g_smart_spectra.trn --> spectrum_files/trappist1_o2_dry_100bar_g_smart_spectra.trn\n",
      "original_files/TRAPPIST-1_Lincowski2018/trappist1_o2_dry_100bar_g_smart_spectra_toa.flx --> spectrum_files/trappist1_o2_dry_100bar_g_smart_spectra_toa.flx\n",
      "original_files/TRAPPIST-1_Lincowski2018/trappist1_o2_dry_100bar_h_smart_spectra.trn --> spectrum_files/trappist1_o2_dry_100bar_h_smart_spectra.trn\n",
      "original_files/TRAPPIST-1_Lincowski2018/trappist1_o2_dry_100bar_h_smart_spectra_toa.flx --> spectrum_files/trappist1_o2_dry_100bar_h_smart_spectra_toa.flx\n",
      "original_files/TRAPPIST-1_Lincowski2018/trappist1_o2_dry_10bar_b_smart_spectra.trn --> spectrum_files/trappist1_o2_dry_10bar_b_smart_spectra.trn\n",
      "original_files/TRAPPIST-1_Lincowski2018/trappist1_o2_dry_10bar_b_smart_spectra_toa.flx --> spectrum_files/trappist1_o2_dry_10bar_b_smart_spectra_toa.flx\n",
      "original_files/TRAPPIST-1_Lincowski2018/trappist1_o2_dry_10bar_c_smart_spectra.trn --> spectrum_files/trappist1_o2_dry_10bar_c_smart_spectra.trn\n",
      "original_files/TRAPPIST-1_Lincowski2018/trappist1_o2_dry_10bar_c_smart_spectra_toa.flx --> spectrum_files/trappist1_o2_dry_10bar_c_smart_spectra_toa.flx\n",
      "original_files/TRAPPIST-1_Lincowski2018/trappist1_o2_dry_10bar_d_smart_spectra.trn --> spectrum_files/trappist1_o2_dry_10bar_d_smart_spectra.trn\n",
      "original_files/TRAPPIST-1_Lincowski2018/trappist1_o2_dry_10bar_d_smart_spectra_toa.flx --> spectrum_files/trappist1_o2_dry_10bar_d_smart_spectra_toa.flx\n",
      "original_files/TRAPPIST-1_Lincowski2018/trappist1_o2_dry_10bar_e_smart_spectra.trn --> spectrum_files/trappist1_o2_dry_10bar_e_smart_spectra.trn\n",
      "original_files/TRAPPIST-1_Lincowski2018/trappist1_o2_dry_10bar_e_smart_spectra_toa.flx --> spectrum_files/trappist1_o2_dry_10bar_e_smart_spectra_toa.flx\n",
      "original_files/TRAPPIST-1_Lincowski2018/trappist1_o2_dry_10bar_f_smart_spectra.trn --> spectrum_files/trappist1_o2_dry_10bar_f_smart_spectra.trn\n",
      "original_files/TRAPPIST-1_Lincowski2018/trappist1_o2_dry_10bar_f_smart_spectra_toa.flx --> spectrum_files/trappist1_o2_dry_10bar_f_smart_spectra_toa.flx\n",
      "original_files/TRAPPIST-1_Lincowski2018/trappist1_o2_dry_10bar_g_smart_spectra.trn --> spectrum_files/trappist1_o2_dry_10bar_g_smart_spectra.trn\n",
      "original_files/TRAPPIST-1_Lincowski2018/trappist1_o2_dry_10bar_g_smart_spectra_toa.flx --> spectrum_files/trappist1_o2_dry_10bar_g_smart_spectra_toa.flx\n",
      "original_files/TRAPPIST-1_Lincowski2018/trappist1_o2_dry_10bar_h_smart_spectra.trn --> spectrum_files/trappist1_o2_dry_10bar_h_smart_spectra.trn\n",
      "original_files/TRAPPIST-1_Lincowski2018/trappist1_o2_dry_10bar_h_smart_spectra_toa.flx --> spectrum_files/trappist1_o2_dry_10bar_h_smart_spectra_toa.flx\n",
      "original_files/TRAPPIST-1_Lincowski2018/trappist1_venus1_10bar_c_smart_spectra.trn --> spectrum_files/trappist1_venus1_10bar_c_smart_spectra.trn\n",
      "original_files/TRAPPIST-1_Lincowski2018/trappist1_venus1_10bar_c_smart_spectra_toa.flx --> spectrum_files/trappist1_venus1_10bar_c_smart_spectra_toa.flx\n",
      "original_files/TRAPPIST-1_Lincowski2018/trappist1_venus1_10bar_d_smart_spectra.trn --> spectrum_files/trappist1_venus1_10bar_d_smart_spectra.trn\n",
      "original_files/TRAPPIST-1_Lincowski2018/trappist1_venus1_10bar_d_smart_spectra_toa.flx --> spectrum_files/trappist1_venus1_10bar_d_smart_spectra_toa.flx\n",
      "original_files/TRAPPIST-1_Lincowski2018/trappist1_venus1_10bar_e_smart_spectra.trn --> spectrum_files/trappist1_venus1_10bar_e_smart_spectra.trn\n",
      "original_files/TRAPPIST-1_Lincowski2018/trappist1_venus1_10bar_e_smart_spectra_toa.flx --> spectrum_files/trappist1_venus1_10bar_e_smart_spectra_toa.flx\n",
      "original_files/TRAPPIST-1_Lincowski2018/trappist1_venus1_10bar_f_smart_spectra.trn --> spectrum_files/trappist1_venus1_10bar_f_smart_spectra.trn\n",
      "original_files/TRAPPIST-1_Lincowski2018/trappist1_venus1_10bar_f_smart_spectra_toa.flx --> spectrum_files/trappist1_venus1_10bar_f_smart_spectra_toa.flx\n",
      "original_files/TRAPPIST-1_Lincowski2018/trappist1_venus1_10bar_g_smart_spectra.trn --> spectrum_files/trappist1_venus1_10bar_g_smart_spectra.trn\n",
      "original_files/TRAPPIST-1_Lincowski2018/trappist1_venus1_10bar_g_smart_spectra_toa.flx --> spectrum_files/trappist1_venus1_10bar_g_smart_spectra_toa.flx\n",
      "original_files/TRAPPIST-1_Lincowski2018/trappist1_venus1_10bar_h_smart_spectra.trn --> spectrum_files/trappist1_venus1_10bar_h_smart_spectra.trn\n",
      "original_files/TRAPPIST-1_Lincowski2018/trappist1_venus1_10bar_h_smart_spectra_toa.flx --> spectrum_files/trappist1_venus1_10bar_h_smart_spectra_toa.flx\n",
      "original_files/TRAPPIST-1_Lincowski2018/trappist1_venus1_93bar_c_smart_spectra.trn --> spectrum_files/trappist1_venus1_93bar_c_smart_spectra.trn\n",
      "original_files/TRAPPIST-1_Lincowski2018/trappist1_venus1_93bar_c_smart_spectra_toa.flx --> spectrum_files/trappist1_venus1_93bar_c_smart_spectra_toa.flx\n",
      "original_files/TRAPPIST-1_Lincowski2018/trappist1_venus1_93bar_d_smart_spectra.trn --> spectrum_files/trappist1_venus1_93bar_d_smart_spectra.trn\n",
      "original_files/TRAPPIST-1_Lincowski2018/trappist1_venus1_93bar_d_smart_spectra_toa.flx --> spectrum_files/trappist1_venus1_93bar_d_smart_spectra_toa.flx\n",
      "original_files/TRAPPIST-1_Lincowski2018/trappist1_venus1_93bar_e_smart_spectra.trn --> spectrum_files/trappist1_venus1_93bar_e_smart_spectra.trn\n",
      "original_files/TRAPPIST-1_Lincowski2018/trappist1_venus1_93bar_e_smart_spectra_toa.flx --> spectrum_files/trappist1_venus1_93bar_e_smart_spectra_toa.flx\n",
      "original_files/TRAPPIST-1_Lincowski2018/trappist1_venus1_93bar_f_smart_spectra.trn --> spectrum_files/trappist1_venus1_93bar_f_smart_spectra.trn\n",
      "original_files/TRAPPIST-1_Lincowski2018/trappist1_venus1_93bar_f_smart_spectra_toa.flx --> spectrum_files/trappist1_venus1_93bar_f_smart_spectra_toa.flx\n",
      "original_files/TRAPPIST-1_Lincowski2018/trappist1_venus1_93bar_g_smart_spectra.trn --> spectrum_files/trappist1_venus1_93bar_g_smart_spectra.trn\n",
      "original_files/TRAPPIST-1_Lincowski2018/trappist1_venus1_93bar_g_smart_spectra_toa.flx --> spectrum_files/trappist1_venus1_93bar_g_smart_spectra_toa.flx\n",
      "original_files/TRAPPIST-1_Lincowski2018/trappist1_venus1_93bar_h_smart_spectra.trn --> spectrum_files/trappist1_venus1_93bar_h_smart_spectra.trn\n",
      "original_files/TRAPPIST-1_Lincowski2018/trappist1_venus1_93bar_h_smart_spectra_toa.flx --> spectrum_files/trappist1_venus1_93bar_h_smart_spectra_toa.flx\n"
     ]
    }
   ],
   "source": [
    "file_list = os.listdir(new_files_dir)\n",
    "new_list = []\n",
    "new_tag_list = []\n",
    "\n",
    "for item in file_list:\n",
    "    \n",
    "    tag = os.path.join(new_files_dir, item)\n",
    "    \n",
    "    # Is this a new file\n",
    "    if item.endswith(\".flx\") or item.endswith(\".trn\"):\n",
    "        \n",
    "        # Append the new file loc to the list \n",
    "        new_list.append(tag)\n",
    "        \n",
    "        # Create new name for moved files\n",
    "        new_tag = os.path.join(spec_data_dir, os.path.split(item)[-1])\n",
    "        \n",
    "        # Rename new files to move them into spectral database directory\n",
    "        os.rename(tag, new_tag)\n",
    "        \n",
    "        # Append newest tags to list\n",
    "        new_tag_list.append(new_tag)\n",
    "        \n",
    "        print(\"%s --> %s\" %(tag, new_tag))"
   ]
  },
  {
   "cell_type": "markdown",
   "metadata": {},
   "source": [
    "## STOP: Now go and add the file names and metadata to the `make_spectrum_csv.py` file"
   ]
  },
  {
   "cell_type": "markdown",
   "metadata": {},
   "source": [
    "(Delete new spectrum files, if need be:)"
   ]
  },
  {
   "cell_type": "code",
   "execution_count": 25,
   "metadata": {},
   "outputs": [],
   "source": [
    "# Uncomment to execute\n",
    "\"\"\" \n",
    "for item in new_tag_list:\n",
    "    # Delete new files, if needed\n",
    "    os.remove(item)\n",
    "\"\"\";"
   ]
  },
  {
   "cell_type": "markdown",
   "metadata": {},
   "source": [
    "## Generating a new csv spectral database for Tableau"
   ]
  },
  {
   "cell_type": "markdown",
   "metadata": {},
   "source": [
    "Let's first import some functions:"
   ]
  },
  {
   "cell_type": "code",
   "execution_count": 2,
   "metadata": {},
   "outputs": [],
   "source": [
    "from spectrum_class import write_spectra_csv, write_spectra_meta_csv\n",
    "from datetime import datetime"
   ]
  },
  {
   "cell_type": "markdown",
   "metadata": {},
   "source": [
    "Importing `make_new_small_database` will load the files into a giant table in memory:"
   ]
  },
  {
   "cell_type": "code",
   "execution_count": 3,
   "metadata": {
    "scrolled": false
   },
   "outputs": [
    {
     "name": "stdout",
     "output_type": "stream",
     "text": [
      "Direct, Sun, Mars, Present-day Mars, Generated using SMART\n",
      "Direct, Sun, Segura Earth, Clearsky; Ocean surface, 0.1 PAL O2\n",
      "Direct, Sun, Segura Earth, Clearsky; Ocean surface, 1 PAL O2\n",
      "Direct, F2V, Segura Earth, Clearsky; Ocean surface, 1 PAL O2\n",
      "Direct, G2V, Segura Earth, Clearsky; Ocean surface, 0.1 PAL O2; 20 ppm CH4\n",
      "Direct, G2V, Segura Earth, Clearsky; Ocean surface, 0.1 PAL O2; 100 ppm CH4\n",
      "Direct, K2V, Segura Earth, Clearsky; Ocean surface, 1 PAL O2\n",
      "Direct, EK Draconis (G0V), Abiotic O2 & O3; High CO2, Clearsky; Ocean surface, IR; 2 bar CO2\n",
      "Direct, EK Draconis (G0V), Abiotic O2 & O3; High CO2, Clearsky; Ocean surface, Vis; 2 bar CO2\n",
      "Direct, EK Draconis (G0V), Abiotic O2 & O3; High CO2, Clearsky; Ocean surface, IR; 0.2 bar CO2\n",
      "Direct, EK Draconis (G0V), Abiotic O2 & O3; High CO2, Clearsky; Ocean surface, Vis; 0.2 bar CO2\n",
      "Direct, EK Draconis (G0V), Abiotic O2 & O3; High CO2, Clearsky; Ocean surface, IR; 0.02 bar CO2\n",
      "Direct, EK Draconis (G0V), Abiotic O2 & O3; High CO2, Clearsky; Ocean surface, Vis; 0.02 bar CO2\n",
      "Direct, Sun, Abiotic O2 & O3; High CO2, Clearsky; Ocean surface, IR; 0.2 bar CO2\n",
      "Direct, Sun, Abiotic O2 & O3; High CO2, Clearsky; Ocean surface, Vis; 0.2 bar CO2\n",
      "Direct, Sun, Bacterial Surface Earth, Earth with Serratia Marscens Surface, Modern Earth Atmosphere\n",
      "Direct, Sun, Bacterial Surface Earth, Earth with Rubrobacter Radiotolerans Surface, Modern Earth Atmosphere\n",
      "Direct, Sun, Bacterial Surface Earth, Earth with Rhodopseudomonas Palustris Surface, Modern Earth Atmosphere\n",
      "Direct, Sun, Bacterial Surface Earth, Earth with Rhodobacter Sphaeroides Surface, Modern Earth Atmosphere\n",
      "Direct, Sun, Bacterial Surface Earth, Earth with Phaeobacter Inhibens Surface, Modern Earth Atmosphere\n",
      "Direct, Sun, Bacterial Surface Earth, Earth with Micrococcus Luteus Surface, Modern Earth Atmosphere\n",
      "Direct, Sun, Bacterial Surface Earth, Earth with Janthinobacterium Lividum Surface, Modern Earth Atmosphere\n",
      "Direct, Sun, Bacterial Surface Earth, Earth with Halobacterium Salinarum Surface, Modern Earth Atmosphere\n",
      "Direct, Sun, Bacterial Surface Earth, Earth with Deinoccocus Radiodurans Surface, Modern Earth Atmosphere\n",
      "Direct, Sun, Bacterial Surface Earth, Earth with Chlorobium Tepidum Surface, Modern Earth Atmosphere\n",
      "Direct, Sun, Bacterial Surface Earth, Earth with Brevibacterium Aurantiacum Surface, Modern Earth Atmosphere\n",
      "Direct, Sun, Material Surface Earth, Earth with Snow Surface, Modern Earth Atmosphere\n",
      "Direct, Sun, Material Surface Earth, Earth with Red Algae Water Surface, Modern Earth Atmosphere\n",
      "Direct, Sun, Material Surface Earth, Earth with Ocean Surface, Modern Earth Atmosphere\n",
      "Direct, Sun, Material Surface Earth, Earth with Limestone Surface, Modern Earth Atmosphere\n",
      "Direct, Sun, Material Surface Earth, Earth with Kaolinite Soil Surface, Modern Earth Atmosphere\n",
      "Direct, Sun, Material Surface Earth, Earth with Halophile Surface, Modern Earth Atmosphere\n",
      "Direct, Sun, Material Surface Earth, Earth with Halite Surface, Modern Earth Atmosphere\n",
      "Direct, Sun, Material Surface Earth, Earth with Gypsum Surface, Modern Earth Atmosphere\n",
      "Direct, Sun, Material Surface Earth, Earth with Grass Surface, Modern Earth Atmosphere\n",
      "Direct, Sun, Material Surface Earth, Earth with Conifers Surface, Modern Earth Atmosphere\n",
      "Direct, Sun, Material Surface Earth, Earth with Basaltic Loam Surface, Modern Earth Atmosphere\n",
      "Direct, Sun, Material Surface Earth, Earth with Bacterial Mat Surface, Modern Earth Atmosphere\n",
      "Direct, Sun, Material Surface Earth, Earth with Acid Mine Drainage Surface, Modern Earth Atmosphere\n",
      "Direct, Sun, Earth, Earth Spectrum at Quadrature, True disk-integrated Earth\n",
      "Direct, AD Leo (M3.5V), Earth, Quiet star; No clouds; 100% Ocean, 1 PAL O2\n",
      "Direct, AD Leo (M3.5V), Earth, Active star; No clouds; 100% Ocean, 1 PAL O2\n",
      "Direct, Sun, High CO2; Low CH4, 50% CO2 with low volcanic outgassing of reduced gases (H2), 100% Ocean; No clouds\n",
      "Direct, Epsilon Eridani (K2V), High CO2; Low CH4, 50% CO2 with low volcanic outgassing of reduced gases (H2), 100% Ocean; No clouds\n",
      "Direct, GJ 876 (M4V), High CO2; Low CH4, 50% CO2 with low volcanic outgassing of reduced gases (H2), 100% Ocean; No clouds\n",
      "Direct, Sigma Bootis (F2V), High CO2; Low CH4, 50% CO2 with low volcanic outgassing of reduced gases (H2), 100% Ocean; No clouds\n",
      "Direct, AD Leo (M3.5V), High CO2; Low CH4, 50% CO2 with low volcanic outgassing of reduced gases (H2), 100% Ocean; No clouds\n",
      "Direct, GJ 1214, GJ 1214b, 100X Solar Metallicity,  \n",
      "Direct, GJ 1214, GJ 1214b, Solar Metallicity,  \n",
      "Direct, Sun, Venus, Venus nightside, Modern Solar System\n",
      "Direct, Sun, Venus, Venus dayside, Modern Solar System\n",
      "Direct, Sun, Archean Earth, Hazy Archean Earth orbiting the modern Sun, 1 bar; 1% CO2; 0.2% CH4\n",
      "Direct, Epsilon Eridani (K2V), Archean Earth, Hazy Archean Earth orbiting K2V star, 1 bar; 1% CO2; 0.3% CH4\n",
      "Direct, Epsilon Eridani (K2V), Archean Earth, Haze-free Archean Earth orbiting K2V star, 1 bar; 1% CO2; 0.2% CH4\n",
      "Direct, GJ 876 (M4V), Archean Earth, Hazy Archean Earth orbiting GJ 876, 1 bar; 1% CO2; 0.2% CH4\n",
      "Direct, Sigma Bootis (F2V), Archean Earth, Haze-free Archean Earth orbiting F2V star, 1 bar; 1% CO2; 0.2% CH4\n",
      "Direct, Archean Sun, Archean Earth, Hazy Archean Earth orbiting the Archean Sun, 1 bar; 1% CO2; 0.2% CH4\n",
      "Direct, AD Leo (M3.5V), Archean Earth, Haze-free Archean Earth orbiting AD Leo, 1 bar; 1% CO2; 0.2% CH4\n",
      "Direct, AD Leo (M3.5V), Archean Earth, Hazy Archean Earth orbiting AD Leo, 1 bar; 1% CO2; 0.9% CH4\n",
      "Direct, Archean Sun, Archean Earth, Thin haze; Stratocumulus cloud, 1 bar; 2% CO2; 0.32% CH4; thin haze; stratocumulus clouds\n",
      "Direct, Archean Sun, Archean Earth, Thin haze; Cirrus cloud, 1 bar; 2% CO2; 0.32% CH4; thin haze; cirrus clouds\n",
      "Direct, Archean Sun, Archean Earth, Thin haze; No cloud, 1 bar; 2% CO2; 0.32% CH4; thin haze\n",
      "Direct, Archean Sun, Archean Earth, Thick haze; Stratocumulus cloud, 1 bar; 2% CO2; 0.37% CH4; thick haze; stratocumulus clouds\n",
      "Direct, Archean Sun, Archean Earth, Thick haze; Cirrus cloud, 1 bar; 2% CO2; 0.37% CH4; thick haze; cirrus clouds\n",
      "Direct, Archean Sun, Archean Earth, Thick haze; No cloud, 1 bar; 2% CO2; 0.37% CH4; thick haze\n",
      "Direct, Proterozoic Sun, Proterozoic Earth, Low oxygen, 1 bar; 1% CO2; 0.03% CH4; 1% PAL O2\n",
      "Direct, Proterozoic Sun, Proterozoic Earth, High oxygen, 1 bar; 1% CO2; 0.03% CH4; 0.1% PAL O2\n",
      "Direct, Archean Sun, Archean Earth, No haze; No cloud, 1 bar; 2% CO2; 0.2% CH4; haze-free\n",
      "Direct, Archean Sun, Archean Earth, No haze; Cirrus clouds, 1 bar; 2% CO2; 0.2% CH4; haze-free; cirrus clouds\n",
      "Direct, Archean Sun, Archean Earth, No haze; Stratocumulus clouds, 1 bar; 2% CO2; 0.2% CH4; haze-free; stratocumulus clouds\n",
      "Direct, GJ 876 (M4V), FP Earth, High O2, 1 bar\n",
      "Direct, GJ 876 (M4V), FP Earth, High O2, 10 bar\n",
      "Direct, GJ 876 (M4V), FP Earth, High O2, 100 bar\n",
      "Direct, GJ 876 (M4V), FP Earth, Photolysis of CO2, 1 bar\n",
      "Direct, AD Leo (M3.5V), Earth, Segura, 1 bar\n",
      "Direct, Proxima Centauri, b, High O2 Dry, 10 bar\n",
      "Direct, Proxima Centauri, b, High O2 Wet, 10 bar\n",
      "Direct, Proxima Centauri, b, Evolved O2, CO2, 10 bar\n",
      "Direct, Proxima Centauri, b, Evolved O2, CO2, 90 bar\n",
      "Direct, Proxima Centauri, b, Venus-like, 10 bar; Cloudy\n",
      "Direct, Proxima Centauri, b, Venus-like, 90 bar; Cloudy\n",
      "Direct, Proxima Centauri, b, FP Earth, 1 bar; CO2/O2/CO\n",
      "Direct, Proxima Centauri, b, Archean, No Haze; No Clouds\n",
      "Direct, Proxima Centauri, b, Archean, Haze; No Clouds\n",
      "Direct, Proxima Centauri, b, Archean, No Haze; Cirrus Cloud\n",
      "Direct, Proxima Centauri, b, Archean, Haze; Cirrus Cloud\n",
      "Direct, Proxima Centauri, b, Archean, No Haze; Stratocumulus Cloud\n",
      "Direct, Proxima Centauri, b, Archean, Haze; Stratocumulus Cloud\n",
      "Direct, Proxima Centauri, b, Archean, No Haze; 50% No Cloud; 25% Cirrus; 25% Stratocumulus\n",
      "Direct, Proxima Centauri, b, Archean, Haze; 50% No Cloud; 25% Cirrus; 25% Stratocumulus\n",
      "Direct, Proxima Centauri, b, Earth-like, Cirrus Cloud\n",
      "Direct, Proxima Centauri, b, Earth-like, Clear\n",
      "Direct, Proxima Centauri, b, Earth-like, Stratocumulus Cloud\n",
      "Direct, Proxima Centauri, b, Earth-like, 50% Clear; 25% Cirrus; 25% Stratocumulus\n",
      "Direct, TRAPPIST-1, b, CO2, 10 bar\n",
      "Direct, TRAPPIST-1, b, CO2, 92 bar\n",
      "Direct, TRAPPIST-1, b, O2 outgassing, 10 bar\n",
      "Direct, TRAPPIST-1, b, O2 outgassing, 100 bar\n",
      "Direct, TRAPPIST-1, b, O2 desiccated, 10 bar\n"
     ]
    },
    {
     "name": "stdout",
     "output_type": "stream",
     "text": [
      "Direct, TRAPPIST-1, b, O2 desiccated, 100 bar\n",
      "Direct, TRAPPIST-1, c, CO2, 10 bar\n",
      "Direct, TRAPPIST-1, c, CO2, 92 bar\n",
      "Direct, TRAPPIST-1, c, Venus-like, 10 bar\n",
      "Direct, TRAPPIST-1, c, Venus-like, 92 bar\n",
      "Direct, TRAPPIST-1, c, O2 outgassing, 10 bar\n",
      "Direct, TRAPPIST-1, c, O2 outgassing, 100 bar\n",
      "Direct, TRAPPIST-1, c, O2 desiccated, 10 bar\n",
      "Direct, TRAPPIST-1, c, O2 desiccated, 100 bar\n",
      "Direct, TRAPPIST-1, d, CO2, 10 bar\n",
      "Direct, TRAPPIST-1, d, CO2, 92 bar\n",
      "Direct, TRAPPIST-1, d, Venus-like, 10 bar\n",
      "Direct, TRAPPIST-1, d, Venus-like, 92 bar\n",
      "Direct, TRAPPIST-1, d, O2 outgassing, 10 bar\n",
      "Direct, TRAPPIST-1, d, O2 outgassing, 100 bar\n",
      "Direct, TRAPPIST-1, d, O2 desiccated, 10 bar\n",
      "Direct, TRAPPIST-1, d, O2 desiccated, 100 bar\n",
      "Direct, TRAPPIST-1, e, Aqua Planet, 1 bar; Clear Sky\n",
      "Direct, TRAPPIST-1, e, Aqua Planet, 1 bar; Cloudy\n",
      "Direct, TRAPPIST-1, e, CO2, 10 bar\n",
      "Direct, TRAPPIST-1, e, CO2, 92 bar\n",
      "Direct, TRAPPIST-1, e, Venus-like, 10 bar\n",
      "Direct, TRAPPIST-1, e, Venus-like, 92 bar\n",
      "Direct, TRAPPIST-1, e, O2 outgassing, 10 bar\n",
      "Direct, TRAPPIST-1, e, O2 outgassing, 100 bar\n",
      "Direct, TRAPPIST-1, e, O2 desiccated, 10 bar\n",
      "Direct, TRAPPIST-1, e, O2 desiccated, 100 bar\n",
      "Direct, TRAPPIST-1, f, CO2, 10 bar\n",
      "Direct, TRAPPIST-1, f, CO2, 92 bar\n",
      "Direct, TRAPPIST-1, f, Venus-like, 10 bar\n",
      "Direct, TRAPPIST-1, f, Venus-like, 92 bar\n",
      "Direct, TRAPPIST-1, f, O2 outgassing, 10 bar\n",
      "Direct, TRAPPIST-1, f, O2 outgassing, 100 bar\n",
      "Direct, TRAPPIST-1, f, O2 desiccated, 10 bar\n",
      "Direct, TRAPPIST-1, f, O2 desiccated, 100 bar\n",
      "Direct, TRAPPIST-1, g, CO2, 10 bar\n",
      "Direct, TRAPPIST-1, g, CO2, 92 bar\n",
      "Direct, TRAPPIST-1, g, Venus-like, 10 bar\n",
      "Direct, TRAPPIST-1, g, Venus-like, 92 bar\n",
      "Direct, TRAPPIST-1, g, O2 outgassing, 10 bar\n",
      "Direct, TRAPPIST-1, g, O2 outgassing, 100 bar\n",
      "Direct, TRAPPIST-1, g, O2 desiccated, 10 bar\n",
      "Direct, TRAPPIST-1, g, O2 desiccated, 100 bar\n",
      "Direct, TRAPPIST-1, h, CO2, 10 bar\n",
      "Direct, TRAPPIST-1, h, CO2, 92 bar\n",
      "Direct, TRAPPIST-1, h, Venus-like, 10 bar\n",
      "Direct, TRAPPIST-1, h, Venus-like, 92 bar\n",
      "Direct, TRAPPIST-1, h, O2 outgassing, 10 bar\n",
      "Direct, TRAPPIST-1, h, O2 outgassing, 100 bar\n",
      "Direct, TRAPPIST-1, h, O2 desiccated, 10 bar\n",
      "Direct, TRAPPIST-1, h, O2 desiccated, 100 bar\n",
      "Transmission, Sun, Earth, Modern Earth orbiting the Sun, Globally averaged atmospheric structure; 1 bar; No Clouds\n",
      "Transmission, Sun, Archean Earth, Hazy Archean Earth orbiting the modern Sun, 1 bar; 1% CO2; 0.2% CH4\n",
      "Transmission, Epsilon Eridani (K2V), Archean Earth, Hazy Archean Earth orbiting K2V star, 1 bar; 1% CO2; 0.3% CH4\n",
      "Transmission, Epsilon Eridani (K2V), Archean Earth, Haze-free Archean Earth orbiting K2V star, 1 bar; 1% CO2; 0.2% CH4\n",
      "Transmission, GJ 876 (M4V), Archean Earth, Hazy Archean Earth orbiting GJ 876, 1 bar; 1% CO2; 0.2% CH4\n",
      "Transmission, Sigma Bootis (F2V), Archean Earth, Haze-free Archean Earth orbiting F2V star, 1 bar; 1% CO2; 0.2% CH4\n",
      "Transmission, Archean Sun, Archean Earth, Hazy Archean Earth orbiting the Archean Sun, 1 bar; 1% CO2; 0.2% CH4\n",
      "Transmission, AD Leo (M3.5V), Archean Earth, Haze-free Archean Earth orbiting AD Leo, 1 bar; 1% CO2; 0.2% CH4\n",
      "Transmission, AD Leo (M3.5V), Archean Earth, Hazy Archean Earth orbiting AD Leo, 1 bar; 1% CO2; 0.9% CH4\n",
      "Transmission, Archean Sun, Archean Earth, Thin haze, 1 bar; 2% CO2; 0.32% CH4; thin haze\n",
      "Transmission, Archean Sun, Archean Earth, Thick haze, 1 bar; 2% CO2; 0.37% CH4; thick haze\n",
      "Transmission, Archean Sun, Archean Earth, No haze, 1 bar; 2% CO2; 0.2% CH4; haze-free\n",
      "Transmission, GJ 876 (M4V), FP Earth, High O2, 1 bar\n",
      "Transmission, GJ 876 (M4V), FP Earth, High O2, 10 bar\n",
      "Transmission, GJ 876 (M4V), FP Earth, High O2, 100 bar\n",
      "Transmission, GJ 876 (M4V), FP Earth, Photolysis of CO2,  \n",
      "Transmission, AD Leo (M3.5V), Earth, Segura,  \n",
      "Transmission, Proxima Centauri, b, High O2 Dry, 10 bar\n",
      "Transmission, Proxima Centauri, b, High O2 Wet, 10 bar\n",
      "Transmission, Proxima Centauri, b, Evolved O2, CO2, 10 bar\n",
      "Transmission, Proxima Centauri, b, Evolved O2, CO2, 90 bar\n",
      "Transmission, Proxima Centauri, b, Venus-like, 10 bar; Cloudy\n",
      "Transmission, Proxima Centauri, b, Venus-like, 90 bar; Cloudy\n",
      "Transmission, Proxima Centauri, b, FP Earth, 1 bar; CO2/O2/CO\n",
      "Transmission, Proxima Centauri, b, Archean, No Haze; No Clouds\n",
      "Transmission, Proxima Centauri, b, Archean, Haze; No Clouds\n",
      "Transmission, Proxima Centauri, b, Archean, No Haze; Cirrus Cloud\n",
      "Transmission, Proxima Centauri, b, Archean, Haze; Cirrus Cloud\n",
      "Transmission, Proxima Centauri, b, Archean, No Haze; Stratocumulus Cloud\n",
      "Transmission, Proxima Centauri, b, Archean, Haze; Stratocumulus Cloud\n",
      "Transmission, Proxima Centauri, b, Earth-like, Clear\n",
      "Transmission, TRAPPIST-1, b, CO2, 10 bar\n",
      "Transmission, TRAPPIST-1, b, CO2, 92 bar\n",
      "Transmission, TRAPPIST-1, b, O2 outgassing, 10 bar\n",
      "Transmission, TRAPPIST-1, b, O2 outgassing, 100 bar\n",
      "Transmission, TRAPPIST-1, b, O2 desiccated, 10 bar\n",
      "Transmission, TRAPPIST-1, b, O2 desiccated, 100 bar\n",
      "Transmission, TRAPPIST-1, c, CO2, 10 bar\n",
      "Transmission, TRAPPIST-1, c, CO2, 92 bar\n",
      "Transmission, TRAPPIST-1, c, Venus-like, 10 bar\n",
      "Transmission, TRAPPIST-1, c, Venus-like, 92 bar\n",
      "Transmission, TRAPPIST-1, c, O2 outgassing, 10 bar\n",
      "Transmission, TRAPPIST-1, c, O2 outgassing, 100 bar\n",
      "Transmission, TRAPPIST-1, c, O2 desiccated, 10 bar\n",
      "Transmission, TRAPPIST-1, c, O2 desiccated, 100 bar\n",
      "Transmission, TRAPPIST-1, d, CO2, 10 bar\n",
      "Transmission, TRAPPIST-1, d, CO2, 92 bar\n",
      "Transmission, TRAPPIST-1, d, Venus-like, 10 bar\n",
      "Transmission, TRAPPIST-1, d, Venus-like, 92 bar\n",
      "Transmission, TRAPPIST-1, d, O2 outgassing, 10 bar\n",
      "Transmission, TRAPPIST-1, d, O2 outgassing, 100 bar\n",
      "Transmission, TRAPPIST-1, d, O2 desiccated, 10 bar\n",
      "Transmission, TRAPPIST-1, d, O2 desiccated, 100 bar\n",
      "Transmission, TRAPPIST-1, e, Aqua Planet, 1 bar; Clear Sky\n",
      "Transmission, TRAPPIST-1, e, Aqua Planet, 1 bar; Cloudy\n",
      "Transmission, TRAPPIST-1, e, CO2, 10 bar\n",
      "Transmission, TRAPPIST-1, e, CO2, 92 bar\n",
      "Transmission, TRAPPIST-1, e, Venus-like, 10 bar\n",
      "Transmission, TRAPPIST-1, e, Venus-like, 92 bar\n",
      "Transmission, TRAPPIST-1, e, O2 outgassing, 10 bar\n",
      "Transmission, TRAPPIST-1, e, O2 outgassing, 100 bar\n",
      "Transmission, TRAPPIST-1, e, O2 desiccated, 10 bar\n",
      "Transmission, TRAPPIST-1, e, O2 desiccated, 100 bar\n",
      "Transmission, TRAPPIST-1, f, CO2, 10 bar\n",
      "Transmission, TRAPPIST-1, f, CO2, 92 bar\n",
      "Transmission, TRAPPIST-1, f, Venus-like, 10 bar\n",
      "Transmission, TRAPPIST-1, f, Venus-like, 92 bar\n",
      "Transmission, TRAPPIST-1, f, O2 outgassing, 10 bar\n",
      "Transmission, TRAPPIST-1, f, O2 outgassing, 100 bar\n",
      "Transmission, TRAPPIST-1, f, O2 desiccated, 10 bar\n",
      "Transmission, TRAPPIST-1, f, O2 desiccated, 100 bar\n",
      "Transmission, TRAPPIST-1, g, CO2, 10 bar\n",
      "Transmission, TRAPPIST-1, g, CO2, 92 bar\n",
      "Transmission, TRAPPIST-1, g, Venus-like, 10 bar\n",
      "Transmission, TRAPPIST-1, g, Venus-like, 92 bar\n",
      "Transmission, TRAPPIST-1, g, O2 outgassing, 10 bar\n",
      "Transmission, TRAPPIST-1, g, O2 outgassing, 100 bar\n",
      "Transmission, TRAPPIST-1, g, O2 desiccated, 10 bar\n",
      "Transmission, TRAPPIST-1, g, O2 desiccated, 100 bar\n",
      "Transmission, TRAPPIST-1, h, CO2, 10 bar\n",
      "Transmission, TRAPPIST-1, h, CO2, 92 bar\n",
      "Transmission, TRAPPIST-1, h, Venus-like, 10 bar\n",
      "Transmission, TRAPPIST-1, h, Venus-like, 92 bar\n",
      "Transmission, TRAPPIST-1, h, O2 outgassing, 10 bar\n",
      "Transmission, TRAPPIST-1, h, O2 outgassing, 100 bar\n",
      "Transmission, TRAPPIST-1, h, O2 desiccated, 10 bar\n",
      "Transmission, TRAPPIST-1, h, O2 desiccated, 100 bar\n"
     ]
    }
   ],
   "source": [
    "from make_spectrum_csv import make_new_small_database"
   ]
  },
  {
   "cell_type": "markdown",
   "metadata": {},
   "source": [
    "Now we'll make the new spectra and metadata csvs"
   ]
  },
  {
   "cell_type": "code",
   "execution_count": 4,
   "metadata": {
    "scrolled": false
   },
   "outputs": [
    {
     "name": "stdout",
     "output_type": "stream",
     "text": [
      "Writing csv/spectra_small_110418.csv...\n",
      "Saved csv/spectra_small_110418.csv\n",
      "Writing csv/spectra_meta_110418.csv...\n",
      "Saved csv/spectra_meta_110418.csv\n"
     ]
    }
   ],
   "source": [
    "make_new_small_database()"
   ]
  },
  {
   "cell_type": "markdown",
   "metadata": {},
   "source": [
    "## Update data sources in Tableau\n",
    "\n",
    "1. Open the tableau file for the VPL Spectral Explorer\n",
    "2. Go to the \"Data Source\" tab at the bottom of the Tableau window. \n",
    "3. Refersh the Data Source if the new CSV files do not appear in the files panel. \n",
    "4. Drag the two new files into their corresponding locations in the union between the database and the metadata\n",
    "5. Click \"Update Now\"\n",
    "6. Go back to the visualization tab\n",
    "7. Make sure the new spectra appear in the viz\n",
    "8. Publish viz to Tableau Public"
   ]
  },
  {
   "cell_type": "markdown",
   "metadata": {},
   "source": [
    "## Update VPL Website with New Tableau Viz  \n",
    "\n",
    "Follow these steps if you are adding a new \"saved as\" Tableau viz to the VPL website:  \n",
    "1. Navigate to the [VPL page](http://depts.washington.edu/naivpl/content/vpl-spectral-explorer) and log in. \n",
    "2. Click to edit the page and show the full HTML source for the page. \n",
    "3. Copy the embed code for the new viz from the Tableau website into the page source code. \n",
    "4. Modify the line to read `vizElement.style.height=(divElement.offsetWidth*1.5)+'px'` this will make the viz taller on the page. \n",
    "5. Click save to publish\n",
    "6. WARNING: clicking save, preview, or toggling away from the raw html will cause the drupal web service to change the Tableau embeded source code if you return. This means that the embed code will need to be pasted in every time you edit the page."
   ]
  },
  {
   "cell_type": "markdown",
   "metadata": {},
   "source": [
    "## Copy new spectrum files to the VPL backend"
   ]
  },
  {
   "cell_type": "code",
   "execution_count": 5,
   "metadata": {},
   "outputs": [],
   "source": [
    "from spectrum_class import copy_raw_spectra"
   ]
  },
  {
   "cell_type": "markdown",
   "metadata": {},
   "source": [
    "Make sure you can successfully open an ssh connection with the workstation, then execute the copy:"
   ]
  },
  {
   "cell_type": "code",
   "execution_count": 7,
   "metadata": {},
   "outputs": [],
   "source": [
    "copy_raw_spectra()"
   ]
  },
  {
   "cell_type": "markdown",
   "metadata": {},
   "source": [
    "If the above line executes \"too fast\" then it may have failed. Look at the remote directory to see if the new files are there. "
   ]
  },
  {
   "cell_type": "markdown",
   "metadata": {},
   "source": [
    "## Email Pramod to have him update the files on the backend  \n",
    "\n",
    "The email should look something like this:\n",
    "\n",
    ">Hi Pramod, \n",
    "\n",
    ">Can you update the spectra located on the backend at: \n",
    "\n",
    ">http://vpl.astro.washington.edu/spectra/spectrum_files/\n",
    "\n",
    ">with the spectra located on the local astro network at:\n",
    "\n",
    ">/astro/store/vpl1/jlustigy/VPLSpectralDatabase/spectrum_files\n",
    "\n",
    ">It would be good to do an rsync so that none of the existing files are replaced. \n",
    "\n",
    ">Thanks!"
   ]
  },
  {
   "cell_type": "code",
   "execution_count": null,
   "metadata": {
    "collapsed": true
   },
   "outputs": [],
   "source": []
  }
 ],
 "metadata": {
  "anaconda-cloud": {},
  "kernelspec": {
   "display_name": "Python [default]",
   "language": "python",
   "name": "python2"
  },
  "language_info": {
   "codemirror_mode": {
    "name": "ipython",
    "version": 2
   },
   "file_extension": ".py",
   "mimetype": "text/x-python",
   "name": "python",
   "nbconvert_exporter": "python",
   "pygments_lexer": "ipython2",
   "version": "2.7.14"
  }
 },
 "nbformat": 4,
 "nbformat_minor": 1
}
