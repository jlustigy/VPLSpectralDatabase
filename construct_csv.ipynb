{
 "cells": [
  {
   "cell_type": "code",
   "execution_count": 1,
   "metadata": {
    "collapsed": false,
    "scrolled": true
   },
   "outputs": [
    {
     "name": "stderr",
     "output_type": "stream",
     "text": [
      "/Users/Jake/anaconda2/lib/python2.7/site-packages/matplotlib/font_manager.py:273: UserWarning: Matplotlib is building the font cache using fc-list. This may take a moment.\n",
      "  warnings.warn('Matplotlib is building the font cache using fc-list. This may take a moment.')\n"
     ]
    }
   ],
   "source": [
    "%matplotlib inline\n",
    "import os\n",
    "import sys\n",
    "import numpy as np\n",
    "import scipy as sp\n",
    "import scipy.optimize\n",
    "import matplotlib as mpl\n",
    "import matplotlib.pyplot as plt\n",
    "from matplotlib import gridspec\n",
    "from matplotlib import rc\n",
    "import pdb\n",
    "\n",
    "mpl.rc('font', family='Times New Roman')\n",
    "mpl.rcParams['font.size'] = 25.0"
   ]
  },
  {
   "cell_type": "code",
   "execution_count": 2,
   "metadata": {
    "collapsed": true,
    "scrolled": true
   },
   "outputs": [],
   "source": [
    "import readsmart as rs\n",
    "import pandas as pd\n",
    "from numba import jit"
   ]
  },
  {
   "cell_type": "code",
   "execution_count": 3,
   "metadata": {
    "collapsed": true,
    "scrolled": true
   },
   "outputs": [],
   "source": [
    "# Relative path to spectra files\n",
    "path = \"spectra_files/\""
   ]
  },
  {
   "cell_type": "code",
   "execution_count": 4,
   "metadata": {
    "collapsed": false,
    "scrolled": true
   },
   "outputs": [],
   "source": [
    "class spectrum(object):\n",
    "    def __init__(self, observation=None, star=None, planet=None, description=None, meta=None, reference=None,\n",
    "                 path_to_file=None, data=None):\n",
    "        self.observation=observation\n",
    "        self.star=star\n",
    "        self.planet=planet\n",
    "        self.description=description\n",
    "        self.meta=meta\n",
    "        self.reference=reference\n",
    "        self._path_to_file=path_to_file\n",
    "        self._data=None\n",
    "        if (self._data is None) and (self._path_to_file is not None):\n",
    "            self._data = spectral_data.from_file(self._path_to_file)\n",
    "        self.tag=observation.replace(\" \", \"\")+\"_\"+star.replace(\" \", \"\")+\"_\"+\\\n",
    "                 planet.replace(\" \", \"\")+\"_\"+description.replace(\" \", \"\")+\"_\"+\\\n",
    "                 meta.replace(\" \", \"\")\n",
    "            \n",
    "    def __str__(self):\n",
    "        string = self.observation+\", \"+self.star+\", \"+self.planet+\", \"+self.description+\", \"+self.meta\n",
    "        return string\n",
    "    \n",
    "    @property\n",
    "    def path_to_file(self):\n",
    "        return self._path_to_file\n",
    "\n",
    "    @path_to_file.setter\n",
    "    def path_to_file(self, value):\n",
    "        self._path_to_file = value\n",
    "        if value is not None:\n",
    "            self._data = spectral_data.from_file(value)\n",
    "        else:\n",
    "            self._data = None\n",
    "    \n",
    "    @property\n",
    "    def data(self):\n",
    "        return self._data\n",
    "\n",
    "    @data.setter\n",
    "    def data(self, value):\n",
    "        self._data = value\n",
    "\n",
    "class spectral_data(object):\n",
    "    def __init__(self, wavelength=None, wavenumber=None, toa_flux=None, star_flux=None, geo_albedo=None, \n",
    "                 flux_transmission=None, absorbing_radius=None):\n",
    "        self.wavelength=wavelength\n",
    "        self.wavenumber=wavenumber\n",
    "        self.toa_flux=toa_flux\n",
    "        self.star_flux=star_flux\n",
    "        self.geo_albedo=geo_albedo\n",
    "        self.flux_transmission=flux_transmission\n",
    "        self.absorbing_radius=absorbing_radius\n",
    "    \n",
    "    @classmethod\n",
    "    def from_file(cls, path):\n",
    "        \n",
    "        # Read path file\n",
    "        if path.endswith(\".rad\"):\n",
    "            # Read rad \n",
    "            wavelength, wavenumber, star_flux, toa_flux, rad_streams = rs.rad(path)\n",
    "            geo_albedo = toa_flux / star_flux\n",
    "            tmp = np.chararray(len(wavelength), itemsize=1)\n",
    "            tmp[:] = \"\"\n",
    "            flux_transmission, absorbing_radius = tmp, tmp\n",
    "        elif path.endswith(\".tran\"):\n",
    "            # Read tran \n",
    "            wavelength, flux_transmission, absorbing_radius = rs.tran(path)\n",
    "            tmp = np.chararray(len(wavelength), itemsize=1)\n",
    "            tmp[:] = \"\"\n",
    "            wavenumber, toa_flux, star_flux, geo_albedo = tmp, tmp, tmp, tmp\n",
    "        elif path.endswith(\".trnst\"):\n",
    "            # Read trnst\n",
    "            wavelength, wavenumber, absorbing_radius, tdepth = rs.trnst(path)\n",
    "            tmp = np.chararray(len(wavelength), itemsize=1)\n",
    "            tmp[:] = \"\"\n",
    "            toa_flux, star_flux, geo_albedo, flux_transmission = tmp, tmp, tmp, tmp\n",
    "        else:\n",
    "            print \"%s is an invalid path.\" %path\n",
    "\n",
    "        # Return new class instance\n",
    "        return cls(wavelength=wavelength, wavenumber=wavenumber, toa_flux=toa_flux, star_flux=star_flux,\n",
    "                   geo_albedo=geo_albedo, flux_transmission=flux_transmission, absorbing_radius=absorbing_radius)\n",
    "    "
   ]
  },
  {
   "cell_type": "code",
   "execution_count": 5,
   "metadata": {
    "collapsed": false
   },
   "outputs": [],
   "source": [
    "#\"Direct_GJ876_highO2_1bar\" : \"photo_clima_p01bar_3.6e-4_GJ876_dry.pt_fixed_filtered_hitran2012_50_100000cm_toa.rad\",\n",
    "test = spectrum(observation=\"Transmission\", \n",
    "               star=\"Proxima Centauri\", \n",
    "               planet=\"b\", \n",
    "               description=\"FP Earth\", \n",
    "               meta=\"1 bar; CO2/O2/CO\", \n",
    "               reference=\"Meadows et al., 2017; Gao et al., 2015\",\n",
    "               path_to_file=os.path.join(path, \"smart_gao_1bar_update_xsec.trnst\")\n",
    "              )"
   ]
  },
  {
   "cell_type": "code",
   "execution_count": 7,
   "metadata": {
    "collapsed": false
   },
   "outputs": [
    {
     "name": "stdout",
     "output_type": "stream",
     "text": [
      "Transmission, Proxima Centauri, b, FP Earth, 1 bar; CO2/O2/CO\n"
     ]
    }
   ],
   "source": [
    "print test"
   ]
  },
  {
   "cell_type": "code",
   "execution_count": 297,
   "metadata": {
    "collapsed": false,
    "scrolled": true
   },
   "outputs": [],
   "source": [
    "spectra = [\n",
    "    \n",
    "    #######################\n",
    "    # DIRECT SPECTROSCOPY #\n",
    "    #######################\n",
    "    \n",
    "    #\"Direct_GJ876_highO2_1bar\" : \"photo_clima_p01bar_3.6e-4_GJ876_dry.pt_fixed_filtered_hitran2012_50_100000cm_toa.rad\",\n",
    "    spectrum(observation=\"Direct\", \n",
    "               star=\"GJ 876\", \n",
    "               planet=\"FP Earth\", \n",
    "               description=\"High O2\", \n",
    "               meta=\"1 bar\", \n",
    "               reference=\"Schwieterman et al., 2016\",\n",
    "               path_to_file=os.path.join(path,\"photo_clima_p01bar_3.6e-4_GJ876_dry.pt_fixed_filtered_hitran2012_50_100000cm_toa.rad\")\n",
    "              ),\n",
    "    \n",
    "    #\"Direct_GJ876_highO2_10bar\" : \"photo_clima_p010bar_3.6e-4CO2_GJ876_dry.pt_fixed_filtered_hitran2012_50_100000cm_toa.rad\",\n",
    "    spectrum(observation=\"Direct\", \n",
    "               star=\"GJ 876\", \n",
    "               planet=\"FP Earth\", \n",
    "               description=\"High O2\", \n",
    "               meta=\"10 bar\", \n",
    "               reference=\"Schwieterman et al., 2016\",\n",
    "               path_to_file=os.path.join(path,\"photo_clima_p010bar_3.6e-4CO2_GJ876_dry.pt_fixed_filtered_hitran2012_50_100000cm_toa.rad\")\n",
    "              ),\n",
    "    \n",
    "    #\"Direct_GJ876_highO2_100bar\" : \"photo_clima_p0100bar_GJ876_dry.pt_fixed_filtered_hitran2012_50_100000cm_toa.rad\",\n",
    "    spectrum(observation=\"Direct\", \n",
    "               star=\"GJ 876\", \n",
    "               planet=\"FP Earth\", \n",
    "               description=\"High O2\", \n",
    "               meta=\"100 bar\", \n",
    "               reference=\"Schwieterman et al., 2016\",\n",
    "               path_to_file=os.path.join(path,\"photo_clima_p0100bar_GJ876_dry.pt_fixed_filtered_hitran2012_50_100000cm_toa.rad\")\n",
    "              ),\n",
    "    \n",
    "    #\"Direct_GJ876_O2_harman\" : \"GJ876_worst_hitran2012_50_100000cm_toa.rad\",\n",
    "    spectrum(observation=\"Direct\", \n",
    "               star=\"GJ 876\", \n",
    "               planet=\"FP Earth\", \n",
    "               description=\"Photolysis of CO2\", \n",
    "               meta=\"\", \n",
    "               reference=\"Harman et al., 2015; Schwieterman et al., 2016\",\n",
    "               path_to_file=os.path.join(path,\"GJ876_worst_hitran2012_50_100000cm_toa.rad\")\n",
    "              ),\n",
    "    \n",
    "    #\"Direct_ADLeo_Segura2005\" : \"ADLeo_Segura2005_HITRAN2012_toa.rad\"\n",
    "    spectrum(observation=\"Direct\", \n",
    "               star=\"AD Leo\", \n",
    "               planet=\"Earth\", \n",
    "               description=\"Segura\", \n",
    "               meta=\"\", \n",
    "               reference=\"Schwieterman 2016; Segura 2005\",\n",
    "               path_to_file=os.path.join(path,\"ADLeo_Segura2005_HITRAN2012_toa.rad\")\n",
    "              ),\n",
    "    \n",
    "    #\"Direct_Proxima Centauri_high O2_10bar_dry\" : \"profile_o2lb_10bar_dry.pt_filtered_hitran2012_50_100000cm_toa.rad\"\n",
    "    spectrum(observation=\"Direct\", \n",
    "               star=\"Proxima Centauri\", \n",
    "               planet=\"b\", \n",
    "               description=\"High O2 Dry\", \n",
    "               meta=\"10 bar\", \n",
    "               reference=\"Meadows et al., 2017; Schwieterman 2016; Luger & Barnes 2015\",\n",
    "               path_to_file=os.path.join(path,\"profile_o2lb_10bar_dry.pt_filtered_hitran2012_50_100000cm_toa.rad\")\n",
    "              ),\n",
    "    \n",
    "    #\"Direct_Proxima Centauri_high O2_10bar_wet\" : \"profile_o2lb_10bar_h2o.pt_filtered_hitran2012_50_100000cm_toa.rad\"\n",
    "    spectrum(observation=\"Direct\", \n",
    "               star=\"Proxima Centauri\", \n",
    "               planet=\"b\", \n",
    "               description=\"High O2 Wet\", \n",
    "               meta=\"10 bar\", \n",
    "               reference=\"Meadows et al., 2017; Schwieterman 2016; Luger & Barnes 2015\",\n",
    "               path_to_file=os.path.join(path,\"profile_o2lb_10bar_h2o.pt_filtered_hitran2012_50_100000cm_toa.rad\")\n",
    "              ),\n",
    "    \n",
    "    #\"Direct_Proxima Centauri_O2 CO2_10bar\" : \"profile_O2_CO2_10bar_prox_hitran2012_50_100000cm_toa.rad\",\n",
    "    spectrum(observation=\"Direct\", \n",
    "               star=\"Proxima Centauri\", \n",
    "               planet=\"b\", \n",
    "               description=\"Evolved O2, CO2\", \n",
    "               meta=\"10 bar\", \n",
    "               reference=\"Meadows et al., 2017\",\n",
    "               path_to_file=os.path.join(path,\"profile_O2_CO2_10bar_prox_hitran2012_50_100000cm_toa.rad\")\n",
    "              ),\n",
    "    \n",
    "    #\"Direct_Proxima Centauri_O2 CO2_90bar\" : \"profile_O2_CO2_90bar_prox_hitran2012_50_100000cm_toa.rad\",\n",
    "    spectrum(observation=\"Direct\", \n",
    "               star=\"Proxima Centauri\", \n",
    "               planet=\"b\", \n",
    "               description=\"Evolved O2, CO2\", \n",
    "               meta=\"90 bar\", \n",
    "               reference=\"Meadows et al., 2017\",\n",
    "               path_to_file=os.path.join(path,\"profile_O2_CO2_90bar_prox_hitran2012_50_100000cm_toa.rad\")\n",
    "              ),\n",
    "    \n",
    "    #\"Direct_Proxima Centauri_Venus_10bar_clouds\" : \"fig17_smart_spectra_pandora10bar_cloudy_500_100000cm-1_toa.rad\",\n",
    "    spectrum(observation=\"Direct\", \n",
    "               star=\"Proxima Centauri\", \n",
    "               planet=\"b\", \n",
    "               description=\"Venus-like\", \n",
    "               meta=\"10 bar; Cloudy\", \n",
    "               reference=\"Meadows et al., 2017\",\n",
    "               path_to_file=os.path.join(path,\"fig17_smart_spectra_pandora10bar_cloudy_500_100000cm-1_toa.rad\")\n",
    "              ),\n",
    "    \n",
    "    #\"Direct_Proxima Centauri_Venus_90bar_clouds\" : \"fig17_smart_spectra_pandora90bar_clouds_500_100000cm-1_toa.rad\",\n",
    "    spectrum(observation=\"Direct\", \n",
    "               star=\"Proxima Centauri\", \n",
    "               planet=\"b\", \n",
    "               description=\"Venus-like\", \n",
    "               meta=\"90 bar; Cloudy\", \n",
    "               reference=\"Meadows et al., 2017\",\n",
    "               path_to_file=os.path.join(path, \"fig17_smart_spectra_pandora90bar_clouds_500_100000cm-1_toa.rad\")\n",
    "              ),\n",
    "    \n",
    "    #\"Direct_Proxima Centauri_Gao_1bar\" : \"smart_gao_1bar_update_xsec_toa.rad\",\n",
    "    spectrum(observation=\"Direct\", \n",
    "               star=\"Proxima Centauri\", \n",
    "               planet=\"b\", \n",
    "               description=\"FP Earth\", \n",
    "               meta=\"1 bar; CO2/O2/CO\", \n",
    "               reference=\"Meadows et al., 2017; Gao et al., 2015\",\n",
    "               path_to_file=os.path.join(path, \"smart_gao_1bar_update_xsec_toa.rad\")\n",
    "              ),\n",
    "    \n",
    "    #\"Direct_Proxima Centauri_Archean_No haze\" : \"fig21_HAZE_msun21_0.0Ga_1.00e-02ch4_rmix_5.0E-2__30.66fscale_toa.rad\",\n",
    "    spectrum(observation=\"Direct\", \n",
    "               star=\"Proxima Centauri\", \n",
    "               planet=\"b\", \n",
    "               description=\"Archean\", \n",
    "               meta=\"No Haze\", \n",
    "               reference=\"Meadows et al., 2017; Arney et al., 2016\",\n",
    "               path_to_file=os.path.join(path, \"fig21_HAZE_msun21_0.0Ga_1.00e-02ch4_rmix_5.0E-2__30.66fscale_toa.rad\")\n",
    "              ),\n",
    "    \n",
    "    #\"Direct_Proxima Centauri_Archean_Haze\" : \"fig21_HAZE_msun21_0.0Ga_3.00e-02ch4_rmix_5.0E-2__30.66fscale_toa.rad\",\n",
    "    spectrum(observation=\"Direct\", \n",
    "               star=\"Proxima Centauri\", \n",
    "               planet=\"b\", \n",
    "               description=\"Archean\", \n",
    "               meta=\"Haze\", \n",
    "               reference=\"Meadows et al., 2017; Arney et al., 2016\",\n",
    "               path_to_file=os.path.join(path, \"fig21_HAZE_msun21_0.0Ga_3.00e-02ch4_rmix_5.0E-2__30.66fscale_toa.rad\")\n",
    "              ),\n",
    "    \n",
    "    #\"Direct_Proxima Centauri_Earth_Cirrus\" : \"profile_earth_prox.pt_cirrus_hitran2012_50_100000cm_toa.rad\",\n",
    "    spectrum(observation=\"Direct\", \n",
    "               star=\"Proxima Centauri\", \n",
    "               planet=\"b\", \n",
    "               description=\"Earth\", \n",
    "               meta=\"Cirrus Cloud\", \n",
    "               reference=\"Meadows et al., 2017\",\n",
    "               path_to_file=os.path.join(path, \"profile_earth_prox.pt_cirrus_hitran2012_50_100000cm_toa.rad\")\n",
    "              ),\n",
    "    \n",
    "    #\"Direct_Proxima Centauri_Earth_Clear\" : \"profile_earth_prox.pt_filtered_hitran2012_50_100000cm_toa.rad\",\n",
    "    spectrum(observation=\"Direct\", \n",
    "               star=\"Proxima Centauri\", \n",
    "               planet=\"b\", \n",
    "               description=\"Earth\", \n",
    "               meta=\"Clear\", \n",
    "               reference=\"Meadows et al., 2017\",\n",
    "               path_to_file=os.path.join(path, \"profile_earth_prox.pt_filtered_hitran2012_50_100000cm_toa.rad\")\n",
    "              ),\n",
    "    \n",
    "    #\"Direct_Proxima Centauri_Earth_Stratocumulus\" : \"profile_earth_prox.pt_stratocum_hitran2012_50_100000cm_toa.rad\",\n",
    "    spectrum(observation=\"Direct\", \n",
    "               star=\"Proxima Centauri\", \n",
    "               planet=\"b\", \n",
    "               description=\"Earth\", \n",
    "               meta=\"Stratocumulus Cloud\", \n",
    "               reference=\"Meadows et al., 2017\",\n",
    "               path_to_file=os.path.join(path, \"profile_earth_prox.pt_stratocum_hitran2012_50_100000cm_toa.rad\")\n",
    "              ),\n",
    "    \n",
    "    #############################\n",
    "    # TRANSMISSION SPECTROSCOPY #\n",
    "    #############################\n",
    "    \n",
    "    #\"Transmission_GJ876_highO2_1bar\" : \"photo_clima_p01bar_3.6e-4_GJ876_dry.pt_fixed_filtered.tran\",\n",
    "    spectrum(observation=\"Transmission\", \n",
    "               star=\"GJ 876\", \n",
    "               planet=\"FP Earth\", \n",
    "               description=\"High O2\", \n",
    "               meta=\"1 bar\", \n",
    "               reference=\"Schwieterman et al., 2016\",\n",
    "               path_to_file=os.path.join(path, \"photo_clima_p01bar_3.6e-4_GJ876_dry.pt_fixed_filtered.tran\")\n",
    "              ),\n",
    "    \n",
    "    #\"Transmission_GJ876_highO2_10bar\" : \"photo_clima_p010bar_3.6e-4CO2_GJ876_dry.pt_fixed_filtered.tran\",\n",
    "    spectrum(observation=\"Transmission\", \n",
    "               star=\"GJ 876\", \n",
    "               planet=\"FP Earth\", \n",
    "               description=\"High O2\", \n",
    "               meta=\"10 bar\", \n",
    "               reference=\"Schwieterman et al., 2016\",\n",
    "               path_to_file=os.path.join(path, \"photo_clima_p010bar_3.6e-4CO2_GJ876_dry.pt_fixed_filtered.tran\")\n",
    "              ),\n",
    "    \n",
    "    #\"Transmission_GJ876_highO2_10bar\" : \"photo_clima_p0100bar_GJ876_dry.pt_fixed_filtered.tran\",\n",
    "    spectrum(observation=\"Transmission\", \n",
    "               star=\"GJ 876\", \n",
    "               planet=\"FP Earth\", \n",
    "               description=\"High O2\", \n",
    "               meta=\"100 bar\", \n",
    "               reference=\"Schwieterman et al., 2016\",\n",
    "               path_to_file=os.path.join(path, \"photo_clima_p0100bar_GJ876_dry.pt_fixed_filtered.tran\")\n",
    "              ),\n",
    "    \n",
    "    #\"Transmission_GJ876_O2_harman\" : \"GJ_876_highCO_hitran2012_50_100000cm.tran\",\n",
    "    spectrum(observation=\"Transmission\", \n",
    "               star=\"GJ 876\", \n",
    "               planet=\"FP Earth\", \n",
    "               description=\"Photolysis of CO2\", \n",
    "               meta=\"\", \n",
    "               reference=\"Harman et al., 2015; Schwieterman et al., 2016\",\n",
    "               path_to_file=os.path.join(path, \"GJ_876_highCO_hitran2012_50_100000cm.tran\")\n",
    "              ),\n",
    "    \n",
    "    #\"Transmission_ADLeo_Segura2005\" : \"smartin_adleo_hyak_hitran2012_50_100000cm.tran\",\n",
    "    spectrum(observation=\"Transmission\", \n",
    "               star=\"AD Leo\", \n",
    "               planet=\"Earth\", \n",
    "               description=\"Segura\", \n",
    "               meta=\"\", \n",
    "               reference=\"Schwieterman 2016; Segura 2005\",\n",
    "               path_to_file=os.path.join(path, \"smartin_adleo_hyak_hitran2012_50_100000cm.tran\")\n",
    "              ),\n",
    "    \n",
    "    #\"Transmission_Proxima Centauri_O2_10bar_dry\" : \"profile_o2lb_10bar_dry.pt_filtered_transit.tran\",\n",
    "    spectrum(observation=\"Transmission\", \n",
    "               star=\"Proxima Centauri\", \n",
    "               planet=\"b\", \n",
    "               description=\"High O2 Dry\", \n",
    "               meta=\"10 bar\", \n",
    "               reference=\"Meadows et al., 2017; Schwieterman 2016; Luger & Barnes 2015\",\n",
    "               path_to_file=os.path.join(path, \"profile_o2lb_10bar_dry.pt_filtered_transit.tran\")\n",
    "              ),\n",
    "    \n",
    "    #\"Transmission_Proxima Centauri_O2_10bar_wet\" : \"profile_o2lb_10bar_h2o.pt_filtered_transit.tran\",\n",
    "    spectrum(observation=\"Transmission\", \n",
    "               star=\"Proxima Centauri\", \n",
    "               planet=\"b\", \n",
    "               description=\"High O2 Wet\", \n",
    "               meta=\"10 bar\", \n",
    "               reference=\"Meadows et al., 2017; Schwieterman 2016; Luger & Barnes 2015\",\n",
    "               path_to_file=os.path.join(path, \"profile_o2lb_10bar_h2o.pt_filtered_transit.tran\")\n",
    "              ),\n",
    "    \n",
    "    #\"Transmission_Proxima Centauri_O2 CO2_10bar\" : \"profile_O2_CO2_10bar_prox_transit_hitran2012_50_100000cm.tran\",\n",
    "    spectrum(observation=\"Transmission\", \n",
    "               star=\"Proxima Centauri\", \n",
    "               planet=\"b\", \n",
    "               description=\"Evolved O2, CO2\", \n",
    "               meta=\"10 bar\", \n",
    "               reference=\"Meadows et al., 2017\",\n",
    "               path_to_file=os.path.join(path, \"profile_O2_CO2_10bar_prox_transit_hitran2012_50_100000cm.tran\")\n",
    "              ),\n",
    "    \n",
    "    #\"Transmission_Proxima Centauri_O2 CO2_90bar\" : \"profile_O2_CO2_90bar_prox_transit_hitran2012_50_100000cm.tran\",\n",
    "    spectrum(observation=\"Transmission\", \n",
    "               star=\"Proxima Centauri\", \n",
    "               planet=\"b\", \n",
    "               description=\"Evolved O2, CO2\", \n",
    "               meta=\"90 bar\", \n",
    "               reference=\"Meadows et al., 2017\",\n",
    "               path_to_file=os.path.join(path, \"profile_O2_CO2_90bar_prox_transit_hitran2012_50_100000cm.tran\")\n",
    "              ),\n",
    "    \n",
    "    #\"Transmission_Proxima Centauri_Venus_10bar_clouds\" : \"fig24_tran_smart_spectra_pandora10bar_cloudy_500_100000cm-1.tran\",\n",
    "    spectrum(observation=\"Transmission\", \n",
    "               star=\"Proxima Centauri\", \n",
    "               planet=\"b\", \n",
    "               description=\"Venus-like\", \n",
    "               meta=\"10 bar; Cloudy\", \n",
    "               reference=\"Meadows et al., 2017\",\n",
    "               path_to_file=os.path.join(path, \"fig24_tran_smart_spectra_pandora10bar_cloudy_500_100000cm-1.tran\")\n",
    "              ),\n",
    "    \n",
    "    #\"Transmission_Proxima Centauri_Venus_90bar_clouds\" : \"fig24_tran_smart_spectra_pandora90bar_clouds_500_100000cm-1.tran\",\n",
    "    spectrum(observation=\"Transmission\", \n",
    "               star=\"Proxima Centauri\", \n",
    "               planet=\"b\", \n",
    "               description=\"Venus-like\", \n",
    "               meta=\"90 bar; Cloudy\", \n",
    "               reference=\"Meadows et al., 2017\",\n",
    "               path_to_file=os.path.join(path, \"fig24_tran_smart_spectra_pandora90bar_clouds_500_100000cm-1.tran\")\n",
    "              ),\n",
    "    \n",
    "    #\"Transmission_Proxima Centauri_Gao_1bar\" : \"Gao2015_case3.pt_filtered_transit.tran\",\n",
    "    spectrum(observation=\"Transmission\", \n",
    "               star=\"Proxima Centauri\", \n",
    "               planet=\"b\", \n",
    "               description=\"FP Earth\", \n",
    "               meta=\"1 bar; CO2/O2/CO\", \n",
    "               reference=\"Meadows et al., 2017; Gao et al., 2015\",\n",
    "               path_to_file=os.path.join(path, \"smart_gao_1bar_update_xsec.trnst\")\n",
    "              ),\n",
    "    \n",
    "    #\"Transmission_Proxima Centauri_Archean_No haze\" : \"fig28_HAZE_msun21_0.0Ga_1.00e-02ch4_rmix_5.0E-2__30.66fscaleTRAN.tran\",\n",
    "    spectrum(observation=\"Transmission\", \n",
    "               star=\"Proxima Centauri\", \n",
    "               planet=\"b\", \n",
    "               description=\"Archean\", \n",
    "               meta=\"No Haze\", \n",
    "               reference=\"Meadows et al., 2017; Arney et al., 2016\",\n",
    "               path_to_file=os.path.join(path, \"fig28_HAZE_msun21_0.0Ga_1.00e-02ch4_rmix_5.0E-2__30.66fscaleTRAN.tran\")\n",
    "              ),\n",
    "    \n",
    "    #\"Transmission_Proxima Centauri_Archean_Haze\" : \"fig28_HAZE_msun21_0.0Ga_3.00e-02ch4_rmix_5.0E-2__30.66fscaleTRAN.tran\",\n",
    "    spectrum(observation=\"Transmission\", \n",
    "               star=\"Proxima Centauri\", \n",
    "               planet=\"b\", \n",
    "               description=\"Archean\", \n",
    "               meta=\"Haze\", \n",
    "               reference=\"Meadows et al., 2017; Arney et al., 2016\",\n",
    "               path_to_file=os.path.join(path, \"fig28_HAZE_msun21_0.0Ga_3.00e-02ch4_rmix_5.0E-2__30.66fscaleTRAN.tran\")\n",
    "              ),\n",
    "    \n",
    "    #\"Transmission_Proxima Centauri_Earth_Clear\" : \"profile_earth_prox.pt_filtered_transit_hitran2012_50_100000cm.tran\",\n",
    "    spectrum(observation=\"Transmission\", \n",
    "               star=\"Proxima Centauri\", \n",
    "               planet=\"b\", \n",
    "               description=\"Earth\", \n",
    "               meta=\"Clear\", \n",
    "               reference=\"Meadows et al., 2017\",\n",
    "               path_to_file=os.path.join(path, \"profile_earth_prox.pt_filtered_transit_hitran2012_50_100000cm.tran\")\n",
    "              ),\n",
    "]"
   ]
  },
  {
   "cell_type": "code",
   "execution_count": 298,
   "metadata": {
    "collapsed": false
   },
   "outputs": [
    {
     "name": "stdout",
     "output_type": "stream",
     "text": [
      "Direct_GJ876_FPEarth_HighO2_1bar\n",
      "Direct_GJ876_FPEarth_HighO2_10bar\n",
      "Direct_GJ876_FPEarth_HighO2_100bar\n",
      "Direct_GJ876_FPEarth_PhotolysisofCO2_\n",
      "Direct_ADLeo_Earth_Segura_\n",
      "Direct_ProximaCentauri_b_HighO2Dry_10bar\n",
      "Direct_ProximaCentauri_b_HighO2Wet_10bar\n",
      "Direct_ProximaCentauri_b_EvolvedO2,CO2_10bar\n",
      "Direct_ProximaCentauri_b_EvolvedO2,CO2_90bar\n",
      "Direct_ProximaCentauri_b_Venus-like_10bar;Cloudy\n",
      "Direct_ProximaCentauri_b_Venus-like_90bar;Cloudy\n",
      "Direct_ProximaCentauri_b_FPEarth_1bar;CO2/O2/CO\n",
      "Direct_ProximaCentauri_b_Archean_NoHaze\n",
      "Direct_ProximaCentauri_b_Archean_Haze\n",
      "Direct_ProximaCentauri_b_Earth_CirrusCloud\n",
      "Direct_ProximaCentauri_b_Earth_Clear\n",
      "Direct_ProximaCentauri_b_Earth_StratocumulusCloud\n",
      "Transmission_GJ876_FPEarth_HighO2_1bar\n",
      "Transmission_GJ876_FPEarth_HighO2_10bar\n",
      "Transmission_GJ876_FPEarth_HighO2_100bar\n",
      "Transmission_GJ876_FPEarth_PhotolysisofCO2_\n",
      "Transmission_ADLeo_Earth_Segura_\n",
      "Transmission_ProximaCentauri_b_HighO2Dry_10bar\n",
      "Transmission_ProximaCentauri_b_HighO2Wet_10bar\n",
      "Transmission_ProximaCentauri_b_EvolvedO2,CO2_10bar\n",
      "Transmission_ProximaCentauri_b_EvolvedO2,CO2_90bar\n",
      "Transmission_ProximaCentauri_b_Venus-like_10bar;Cloudy\n",
      "Transmission_ProximaCentauri_b_Venus-like_90bar;Cloudy\n",
      "Transmission_ProximaCentauri_b_FPEarth_1bar;CO2/O2/CO\n",
      "Transmission_ProximaCentauri_b_Archean_NoHaze\n",
      "Transmission_ProximaCentauri_b_Archean_Haze\n",
      "Transmission_ProximaCentauri_b_Earth_Clear\n"
     ]
    }
   ],
   "source": [
    "for s in spectra: print s.tag"
   ]
  },
  {
   "cell_type": "code",
   "execution_count": 322,
   "metadata": {
    "collapsed": true
   },
   "outputs": [],
   "source": [
    "def write_spectra_csv(spectra, savename=\"test.csv\", lammin=0.1, lammax=20.0):\n",
    "    \"\"\"\n",
    "    \"\"\"\n",
    "    wl = []\n",
    "    wn = []\n",
    "    toaf = []\n",
    "    starf = []\n",
    "    galb = []\n",
    "    ftrn = []\n",
    "    absrad = []\n",
    "    tag = []\n",
    "    \n",
    "    for s in spectra:\n",
    "        mask = (s.data.wavelength >= lammin) & (s.data.wavelength <= lammax)\n",
    "        tmp = np.chararray(np.sum(mask), itemsize=len(s.tag))\n",
    "        tmp[:] = s.tag\n",
    "        tag = np.hstack([tag,tmp])\n",
    "        wl = np.hstack([wl, s.data.wavelength[mask]])\n",
    "        wn = np.hstack([wn, s.data.wavenumber[mask]])\n",
    "        toaf = np.hstack([toaf, s.data.toa_flux[mask]])\n",
    "        starf = np.hstack([starf, s.data.star_flux[mask]])\n",
    "        galb = np.hstack([galb, s.data.geo_albedo[mask]])\n",
    "        ftrn = np.hstack([ftrn, s.data.flux_transmission[mask]])\n",
    "        absrad = np.hstack([absrad, s.data.absorbing_radius[mask]])\n",
    "    \n",
    "    data = np.array([tag, wl, wn, toaf, starf, galb, ftrn, absrad]).T\n",
    "    \n",
    "    cols = [\n",
    "        \"File Name\",\n",
    "        \"Wavelength\",\n",
    "        \"Wavenumber\",\n",
    "        \"Top of Atmosphere Flux\",\n",
    "        \"Stellar Flux\",\n",
    "        \"Geometric Albedo\",\n",
    "        \"Flux Transmission\",\n",
    "        \"Absorbing Radius\"\n",
    "    ]\n",
    "    \n",
    "    df = pd.DataFrame(data, columns=cols)\n",
    "    \n",
    "    df.to_csv(savename)\n",
    "\n",
    "    return"
   ]
  },
  {
   "cell_type": "code",
   "execution_count": 323,
   "metadata": {
    "collapsed": false
   },
   "outputs": [],
   "source": [
    "write_spectra_csv(spectra)"
   ]
  },
  {
   "cell_type": "code",
   "execution_count": 274,
   "metadata": {
    "collapsed": false,
    "scrolled": true
   },
   "outputs": [],
   "source": [
    "# Dictionary containing filenames\n",
    "rad_file_names = {\n",
    "    #\"Direct_GJ876_highO2_1bar\" : \"photo_clima_p01bar_3.6e-4_GJ876_dry.pt_fixed_filtered_hitran2012_50_100000cm_toa.rad\",\n",
    "    #\"Direct_GJ876_highO2_10bar\" : \"photo_clima_p010bar_3.6e-4CO2_GJ876_dry.pt_fixed_filtered_hitran2012_50_100000cm_toa.rad\",\n",
    "    #\"Direct_GJ876_highO2_100bar\" : \"photo_clima_p0100bar_GJ876_dry.pt_fixed_filtered_hitran2012_50_100000cm_toa.rad\",\n",
    "    #\"Direct_GJ876_O2_harman\" : \"GJ876_worst_hitran2012_50_100000cm_toa.rad\",\n",
    "    #\"Direct_ADLeo_Segura2005\" : \"ADLeo_Segura2005_HITRAN2012_toa.rad\",\n",
    "    #\"Direct_Proxima Centauri_high O2_10bar_dry\" : \"profile_o2lb_10bar_dry.pt_filtered_hitran2012_50_100000cm_toa.rad\",\n",
    "    #\"Direct_Proxima Centauri_high O2_10bar_wet\" : \"profile_o2lb_10bar_h2o.pt_filtered_hitran2012_50_100000cm_toa.rad\",\n",
    "    #\"Direct_Proxima Centauri_O2 CO2_10bar\" : \"profile_O2_CO2_10bar_prox_hitran2012_50_100000cm_toa.rad\",\n",
    "    #\"Direct_Proxima Centauri_O2 CO2_90bar\" : \"profile_O2_CO2_90bar_prox_hitran2012_50_100000cm_toa.rad\",\n",
    "    #\"Direct_Proxima Centauri_Venus_10bar_clouds\" : \"fig17_smart_spectra_pandora10bar_cloudy_500_100000cm-1_toa.rad\",\n",
    "    #\"Direct_Proxima Centauri_Venus_90bar_clouds\" : \"fig17_smart_spectra_pandora90bar_clouds_500_100000cm-1_toa.rad\",\n",
    "    #\"Direct_Proxima Centauri_Gao_1bar\" : \"gao_1bar_final_toa_old.rad\",\n",
    "    #\"Direct_Proxima Centauri_Archean_No haze\" : \"fig21_HAZE_msun21_0.0Ga_1.00e-02ch4_rmix_5.0E-2__30.66fscale_toa.rad\",\n",
    "    #\"Direct_Proxima Centauri_Archean_Haze\" : \"fig21_HAZE_msun21_0.0Ga_3.00e-02ch4_rmix_5.0E-2__30.66fscale_toa.rad\",\n",
    "    #\"Direct_Proxima Centauri_Earth_Cirrus\" : \"profile_earth_prox.pt_cirrus_hitran2012_50_100000cm_toa.rad\",\n",
    "    #\"Direct_Proxima Centauri_Earth_Clear\" : \"profile_earth_prox.pt_filtered_hitran2012_50_100000cm_toa.rad\",\n",
    "    #\"Direct_Proxima Centauri_Earth_Stratocumulus\" : \"profile_earth_prox.pt_stratocum_hitran2012_50_100000cm_toa.rad\",\n",
    "}"
   ]
  },
  {
   "cell_type": "code",
   "execution_count": 275,
   "metadata": {
    "collapsed": false,
    "scrolled": true
   },
   "outputs": [],
   "source": [
    "trans_file_names = {\n",
    "    #\"Transmission_GJ876_highO2_1bar\" : \"photo_clima_p01bar_3.6e-4_GJ876_dry.pt_fixed_filtered.tran\",\n",
    "    #\"Transmission_GJ876_highO2_10bar\" : \"photo_clima_p010bar_3.6e-4CO2_GJ876_dry.pt_fixed_filtered.tran\",\n",
    "    #\"Transmission_GJ876_highO2_10bar\" : \"photo_clima_p0100bar_GJ876_dry.pt_fixed_filtered.tran\",\n",
    "    #\"Transmission_GJ876_O2_harman\" : \"GJ_876_highCO_hitran2012_50_100000cm.tran\",\n",
    "    #\"Transmission_ADLeo_Segura2005\" : \"smartin_adleo_hyak_hitran2012_50_100000cm.tran\",\n",
    "    #\"Transmission_Proxima Centauri_O2_10bar_dry\" : \"profile_o2lb_10bar_dry.pt_filtered_transit.tran\",\n",
    "    #\"Transmission_Proxima Centauri_O2_10bar_wet\" : \"profile_o2lb_10bar_h2o.pt_filtered_transit.tran\",\n",
    "    #\"Transmission_Proxima Centauri_O2 CO2_10bar\" : \"profile_O2_CO2_10bar_prox_transit_hitran2012_50_100000cm.tran\",\n",
    "    #\"Transmission_Proxima Centauri_O2 CO2_90bar\" : \"profile_O2_CO2_90bar_prox_transit_hitran2012_50_100000cm.tran\",\n",
    "    #\"Transmission_Proxima Centauri_Venus_10bar_clouds\" : \"fig24_tran_smart_spectra_pandora10bar_cloudy_500_100000cm-1.tran\",\n",
    "    #\"Transmission_Proxima Centauri_Venus_90bar_clouds\" : \"fig24_tran_smart_spectra_pandora90bar_clouds_500_100000cm-1.tran\",\n",
    "    #\"Transmission_Proxima Centauri_Gao_1bar\" : \"Gao2015_case3.pt_filtered_transit.tran\",\n",
    "    #\"Transmission_Proxima Centauri_Archean_No haze\" : \"fig28_HAZE_msun21_0.0Ga_1.00e-02ch4_rmix_5.0E-2__30.66fscaleTRAN.tran\",\n",
    "    #\"Transmission_Proxima Centauri_Archean_Haze\" : \"fig28_HAZE_msun21_0.0Ga_3.00e-02ch4_rmix_5.0E-2__30.66fscaleTRAN.tran\",\n",
    "    #\"Transmission_Proxima Centauri_Earth_Clear\" : \"profile_earth_prox.pt_filtered_transit_hitran2012_50_100000cm.tran\",\n",
    "}"
   ]
  },
  {
   "cell_type": "code",
   "execution_count": 135,
   "metadata": {
    "collapsed": false,
    "scrolled": true
   },
   "outputs": [],
   "source": [
    "rad_data = {}\n",
    "for key, value in rad_file_names.iteritems(): \n",
    "    fn = os.path.join(path,value)\n",
    "    wl, wno, solar_spec, TOA_flux, rad_streams = rs.rad(fn)\n",
    "    tmp_dict = {\n",
    "        \"wl\" : wl,\n",
    "        \"wno\" : wno,\n",
    "        \"solar_spec\" : solar_spec,\n",
    "        \"TOA_flux\" : TOA_flux,\n",
    "        \"reflect\" : TOA_flux / solar_spec\n",
    "    }\n",
    "    rad_data[key] = tmp_dict"
   ]
  },
  {
   "cell_type": "code",
   "execution_count": 136,
   "metadata": {
    "collapsed": false,
    "scrolled": true
   },
   "outputs": [],
   "source": [
    "trans_data = {}\n",
    "for key, value in trans_file_names.iteritems(): \n",
    "    fn = os.path.join(path,value)\n",
    "    wl, flux_ratio, absorbing_radius = rs.tran(fn)\n",
    "    tmp_dict = {\n",
    "        \"wl\" : wl,\n",
    "        \"flux_ratio\" : flux_ratio,\n",
    "        \"abs_rad\" : absorbing_radius\n",
    "    }\n",
    "    trans_data[key] = tmp_dict"
   ]
  },
  {
   "cell_type": "code",
   "execution_count": 81,
   "metadata": {
    "collapsed": false,
    "scrolled": true
   },
   "outputs": [
    {
     "data": {
      "text/plain": [
       "array([  1.99997000e+02,   1.99996000e+02,   1.99995000e+02, ...,\n",
       "         1.04999999e-01,   1.03999999e-01,   1.02999999e-01])"
      ]
     },
     "execution_count": 81,
     "metadata": {},
     "output_type": "execute_result"
    }
   ],
   "source": [
    "rad_data[\"PCb_earth_clear\"][\"wl\"]\n",
    "trans_data[\"PCb_earth\"][\"wl\"]"
   ]
  },
  {
   "cell_type": "code",
   "execution_count": 82,
   "metadata": {
    "collapsed": true,
    "scrolled": true
   },
   "outputs": [],
   "source": [
    "df = pd.DataFrame.from_dict(rad_data)"
   ]
  },
  {
   "cell_type": "code",
   "execution_count": 116,
   "metadata": {
    "collapsed": false,
    "scrolled": true
   },
   "outputs": [],
   "source": [
    "lammin=0.3\n",
    "lammax=1.0\n",
    "\n",
    "wl=[] \n",
    "wno=[] \n",
    "TOA_flux=[]\n",
    "reflect=[]\n",
    "fnames=[]\n",
    "for key, value in rad_file_names.iteritems(): \n",
    "    fn = os.path.join(path,value)\n",
    "    twl, twno, tsolar_spec, tTOA_flux, trad_streams = rs.rad(fn)\n",
    "    mask = (twl > lammin) & (twl < lammax)\n",
    "    keyarr = np.chararray(len(twl[mask]), itemsize=len(key))\n",
    "    keyarr[:] = key\n",
    "    fnames = np.hstack([fnames,keyarr])\n",
    "    wl = np.hstack([wl,twl[mask]])\n",
    "    wno = np.hstack([wno,twno[mask]])\n",
    "    TOA_flux = np.hstack([TOA_flux,tTOA_flux[mask]])\n",
    "    reflect = np.hstack([reflect,tTOA_flux[mask]/tsolar_spec[mask]])"
   ]
  },
  {
   "cell_type": "code",
   "execution_count": 117,
   "metadata": {
    "collapsed": true,
    "scrolled": true
   },
   "outputs": [],
   "source": [
    "rad_data = np.array([fnames, wl, wno, TOA_flux, reflect])"
   ]
  },
  {
   "cell_type": "code",
   "execution_count": 118,
   "metadata": {
    "collapsed": false,
    "scrolled": true
   },
   "outputs": [
    {
     "data": {
      "text/plain": [
       "(5, 396661)"
      ]
     },
     "execution_count": 118,
     "metadata": {},
     "output_type": "execute_result"
    }
   ],
   "source": [
    "rad_data.shape"
   ]
  },
  {
   "cell_type": "code",
   "execution_count": 119,
   "metadata": {
    "collapsed": false,
    "scrolled": true
   },
   "outputs": [],
   "source": [
    "np.savetxt('test_rad.csv',\n",
    "           rad_data.T,\n",
    "           delimiter=',',\n",
    "           header='File Name, Wavelength, Wavenumber, TOA Flux, Geometric Albedo',\n",
    "           comments='',\n",
    "           fmt=('%s', '%s', '%s', '%s', '%s')\n",
    "           )"
   ]
  },
  {
   "cell_type": "code",
   "execution_count": 112,
   "metadata": {
    "collapsed": false,
    "scrolled": true
   },
   "outputs": [],
   "source": [
    "lammin=0.3\n",
    "lammax=1.0\n",
    "\n",
    "wl=[] \n",
    "flux_ratio=[] \n",
    "absorbing_radius=[]\n",
    "fnames=[]\n",
    "for key, value in trans_file_names.iteritems(): \n",
    "    fn = os.path.join(path,value)\n",
    "    twl, tflux_ratio, tabsorbing_radius = rs.tran(fn)\n",
    "    mask = (twl > lammin) & (twl < lammax)\n",
    "    keyarr = np.chararray(len(twl[mask]), itemsize=len(key))\n",
    "    keyarr[:] = key\n",
    "    fnames = np.hstack([fnames,keyarr])\n",
    "    wl = np.hstack([wl,twl[mask]])\n",
    "    flux_ratio = np.hstack([flux_ratio,tflux_ratio[mask]])\n",
    "    absorbing_radius = np.hstack([absorbing_radius,tabsorbing_radius[mask]])"
   ]
  },
  {
   "cell_type": "code",
   "execution_count": 113,
   "metadata": {
    "collapsed": true,
    "scrolled": true
   },
   "outputs": [],
   "source": [
    "tran_data = np.array([fnames, wl, flux_ratio, absorbing_radius])"
   ]
  },
  {
   "cell_type": "code",
   "execution_count": 114,
   "metadata": {
    "collapsed": false,
    "scrolled": true
   },
   "outputs": [
    {
     "data": {
      "text/plain": [
       "(4, 22310)"
      ]
     },
     "execution_count": 114,
     "metadata": {},
     "output_type": "execute_result"
    }
   ],
   "source": [
    "tran_data.shape"
   ]
  },
  {
   "cell_type": "code",
   "execution_count": 115,
   "metadata": {
    "collapsed": true,
    "scrolled": true
   },
   "outputs": [],
   "source": [
    "np.savetxt('test_tran.csv',\n",
    "           tran_data.T,\n",
    "           delimiter=',',\n",
    "           header='File Name, Wavelength, Flux Transmission, Atmosphere Absorbing Radius',\n",
    "           comments='',\n",
    "           fmt=('%s', '%s', '%s', '%s')\n",
    "           )"
   ]
  },
  {
   "cell_type": "code",
   "execution_count": 128,
   "metadata": {
    "collapsed": true,
    "scrolled": true
   },
   "outputs": [],
   "source": [
    "df = pd.DataFrame(tran_data.T)"
   ]
  },
  {
   "cell_type": "code",
   "execution_count": 137,
   "metadata": {
    "collapsed": false,
    "scrolled": true
   },
   "outputs": [],
   "source": [
    "lammin=0.3\n",
    "lammax=1.0\n",
    "\n",
    "wl=[] \n",
    "wno=[] \n",
    "TOA_flux=[]\n",
    "reflect=[]\n",
    "flux_ratio=[] \n",
    "absorbing_radius=[]\n",
    "fnames=[]\n",
    "\n",
    "# Loop over rad files\n",
    "for key, value in rad_file_names.iteritems(): \n",
    "    fn = os.path.join(path,value)\n",
    "    twl, twno, tsolar_spec, tTOA_flux, trad_streams = rs.rad(fn)\n",
    "    mask = (twl > lammin) & (twl < lammax)\n",
    "    keyarr = np.chararray(len(twl[mask]), itemsize=len(key))\n",
    "    keyarr[:] = key\n",
    "    fnames = np.hstack([fnames,keyarr])\n",
    "    tmp = np.chararray(len(twl[mask]), itemsize=1)\n",
    "    tmp[:] = \"\"\n",
    "    flux_ratio=np.hstack([flux_ratio, tmp]) \n",
    "    absorbing_radius=np.hstack([absorbing_radius,tmp])\n",
    "    wl = np.hstack([wl,twl[mask]])\n",
    "    wno = np.hstack([wno,twno[mask]])\n",
    "    TOA_flux = np.hstack([TOA_flux,tTOA_flux[mask]])\n",
    "    reflect = np.hstack([reflect,tTOA_flux[mask]/tsolar_spec[mask]])   "
   ]
  },
  {
   "cell_type": "code",
   "execution_count": 138,
   "metadata": {
    "collapsed": true,
    "scrolled": true
   },
   "outputs": [],
   "source": [
    "# Loop over transit files\n",
    "for key, value in trans_file_names.iteritems(): \n",
    "    fn = os.path.join(path,value)\n",
    "    twl, tflux_ratio, tabsorbing_radius = rs.tran(fn)\n",
    "    mask = (twl > lammin) & (twl < lammax)\n",
    "    keyarr = np.chararray(len(twl[mask]), itemsize=len(key))\n",
    "    keyarr[:] = key\n",
    "    fnames = np.hstack([fnames,keyarr])\n",
    "    tmp = np.ones(len(twl[mask]))\n",
    "    tmp[:] = \"\"\n",
    "    wno = np.hstack([wno,tmp])\n",
    "    TOA_flux = np.hstack([TOA_flux,tmp])\n",
    "    reflect = np.hstack([reflect,tmp])  \n",
    "    wl = np.hstack([wl,twl[mask]])\n",
    "    flux_ratio = np.hstack([flux_ratio,tflux_ratio[mask]])\n",
    "    absorbing_radius = np.hstack([absorbing_radius,tabsorbing_radius[mask]])"
   ]
  },
  {
   "cell_type": "code",
   "execution_count": 139,
   "metadata": {
    "collapsed": true
   },
   "outputs": [],
   "source": [
    "data = np.array([fnames, wl, wno, TOA_flux, reflect, flux_ratio, absorbing_radius]).T"
   ]
  },
  {
   "cell_type": "code",
   "execution_count": 143,
   "metadata": {
    "collapsed": false,
    "scrolled": true
   },
   "outputs": [],
   "source": [
    "np.savetxt('test_data.csv',\n",
    "           data,\n",
    "           delimiter=',',\n",
    "           header='File Name, Wavelength, Wavenumber, Top of Atmosphere Flux, Geometric Albedo, Flux Transmission, Atmosphere Absorbing Radius',\n",
    "           comments='',\n",
    "           fmt=('%s', '%s', '%s', '%s', '%s', '%s', '%s')\n",
    "           )"
   ]
  },
  {
   "cell_type": "code",
   "execution_count": 142,
   "metadata": {
    "collapsed": false
   },
   "outputs": [
    {
     "data": {
      "text/plain": [
       "(418971, 7)"
      ]
     },
     "execution_count": 142,
     "metadata": {},
     "output_type": "execute_result"
    }
   ],
   "source": [
    "data.shape"
   ]
  },
  {
   "cell_type": "code",
   "execution_count": null,
   "metadata": {
    "collapsed": true
   },
   "outputs": [],
   "source": []
  }
 ],
 "metadata": {
  "anaconda-cloud": {},
  "kernelspec": {
   "display_name": "Python [Root]",
   "language": "python",
   "name": "Python [Root]"
  },
  "language_info": {
   "codemirror_mode": {
    "name": "ipython",
    "version": 2
   },
   "file_extension": ".py",
   "mimetype": "text/x-python",
   "name": "python",
   "nbconvert_exporter": "python",
   "pygments_lexer": "ipython2",
   "version": "2.7.12"
  }
 },
 "nbformat": 4,
 "nbformat_minor": 0
}
