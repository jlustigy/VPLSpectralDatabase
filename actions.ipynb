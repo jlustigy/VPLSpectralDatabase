{
 "cells": [
  {
   "cell_type": "code",
   "execution_count": 1,
   "metadata": {
    "collapsed": true
   },
   "outputs": [],
   "source": [
    "import os\n",
    "import sys"
   ]
  },
  {
   "cell_type": "markdown",
   "metadata": {},
   "source": [
    "## Add new files to the Database  \n",
    "\n",
    "We need to convert the new files into *even newer* files that have column labeled headers. We'll use the `convert_new_files` function to do this."
   ]
  },
  {
   "cell_type": "code",
   "execution_count": 2,
   "metadata": {
    "collapsed": false
   },
   "outputs": [],
   "source": [
    "from spectrum_class import convert_new_files"
   ]
  },
  {
   "cell_type": "markdown",
   "metadata": {},
   "source": [
    "Specify the directory containing the new raw spectrum files and the directory that houses all the spectra in the database:"
   ]
  },
  {
   "cell_type": "code",
   "execution_count": 19,
   "metadata": {
    "collapsed": false
   },
   "outputs": [],
   "source": [
    "new_files_dir = \"original_files/PCb/\"\n",
    "spec_data_dir = \"spectrum_files/\""
   ]
  },
  {
   "cell_type": "markdown",
   "metadata": {},
   "source": [
    "Convert all `*.rad` and `*.trnst` files to `*.flx` and `*.trn`, respectively:"
   ]
  },
  {
   "cell_type": "code",
   "execution_count": 20,
   "metadata": {
    "collapsed": false
   },
   "outputs": [],
   "source": [
    "convert_new_files(new_files_dir)"
   ]
  },
  {
   "cell_type": "markdown",
   "metadata": {},
   "source": [
    "Move all new files into `spectrum_files/` directory:"
   ]
  },
  {
   "cell_type": "code",
   "execution_count": 21,
   "metadata": {
    "collapsed": false
   },
   "outputs": [
    {
     "name": "stdout",
     "output_type": "stream",
     "text": [
      "original_files/PCb/10bar_O2_CO2_final.pt_filtered_hitran2012_50_100000cm.trn --> spectrum_files/10bar_O2_CO2_final.pt_filtered_hitran2012_50_100000cm.trn\n",
      "original_files/PCb/10bar_O2_CO2_final.pt_filtered_hitran2012_50_100000cm_toa.flx --> spectrum_files/10bar_O2_CO2_final.pt_filtered_hitran2012_50_100000cm_toa.flx\n",
      "original_files/PCb/10bar_O2_dry.pt_filtered_hitran2012_50_100000cm.trn --> spectrum_files/10bar_O2_dry.pt_filtered_hitran2012_50_100000cm.trn\n",
      "original_files/PCb/10bar_O2_dry.pt_filtered_hitran2012_50_100000cm_toa.flx --> spectrum_files/10bar_O2_dry.pt_filtered_hitran2012_50_100000cm_toa.flx\n",
      "original_files/PCb/10bar_O2_wet.pt_filtered_hitran2012_50_100000cm.trn --> spectrum_files/10bar_O2_wet.pt_filtered_hitran2012_50_100000cm.trn\n",
      "original_files/PCb/10bar_O2_wet.pt_filtered_hitran2012_50_100000cm_toa.flx --> spectrum_files/10bar_O2_wet.pt_filtered_hitran2012_50_100000cm_toa.flx\n",
      "original_files/PCb/90bar_O2_CO2_profile.pt_filtered_hitran2012_50_100000cm.trn --> spectrum_files/90bar_O2_CO2_profile.pt_filtered_hitran2012_50_100000cm.trn\n",
      "original_files/PCb/90bar_O2_CO2_profile.pt_filtered_hitran2012_50_100000cm_toa.flx --> spectrum_files/90bar_O2_CO2_profile.pt_filtered_hitran2012_50_100000cm_toa.flx\n",
      "original_files/PCb/HAZE_1.00e-02ch4_cirrus_new.trn --> spectrum_files/HAZE_1.00e-02ch4_cirrus_new.trn\n",
      "original_files/PCb/HAZE_1.00e-02ch4_cirrus_new_toa.flx --> spectrum_files/HAZE_1.00e-02ch4_cirrus_new_toa.flx\n",
      "original_files/PCb/HAZE_1.00e-02ch4_clear_new.trn --> spectrum_files/HAZE_1.00e-02ch4_clear_new.trn\n",
      "original_files/PCb/HAZE_1.00e-02ch4_clear_new_toa.flx --> spectrum_files/HAZE_1.00e-02ch4_clear_new_toa.flx\n",
      "original_files/PCb/HAZE_1.00e-02ch4_combined_new_toa.flx --> spectrum_files/HAZE_1.00e-02ch4_combined_new_toa.flx\n",
      "original_files/PCb/HAZE_1.00e-02ch4_stcum_new.trn --> spectrum_files/HAZE_1.00e-02ch4_stcum_new.trn\n",
      "original_files/PCb/HAZE_1.00e-02ch4_stcum_new_toa.flx --> spectrum_files/HAZE_1.00e-02ch4_stcum_new_toa.flx\n",
      "original_files/PCb/HAZE_1.50e-02ch4_cirrus_new.trn --> spectrum_files/HAZE_1.50e-02ch4_cirrus_new.trn\n",
      "original_files/PCb/HAZE_1.50e-02ch4_cirrus_new_toa.flx --> spectrum_files/HAZE_1.50e-02ch4_cirrus_new_toa.flx\n",
      "original_files/PCb/HAZE_1.50e-02ch4_clear_new.trn --> spectrum_files/HAZE_1.50e-02ch4_clear_new.trn\n",
      "original_files/PCb/HAZE_1.50e-02ch4_clear_new_toa.flx --> spectrum_files/HAZE_1.50e-02ch4_clear_new_toa.flx\n",
      "original_files/PCb/HAZE_1.50e-02ch4_combined_new_toa.flx --> spectrum_files/HAZE_1.50e-02ch4_combined_new_toa.flx\n",
      "original_files/PCb/HAZE_1.50e-02ch4_stcum_new.trn --> spectrum_files/HAZE_1.50e-02ch4_stcum_new.trn\n",
      "original_files/PCb/HAZE_1.50e-02ch4_stcum_new_toa.flx --> spectrum_files/HAZE_1.50e-02ch4_stcum_new_toa.flx\n",
      "original_files/PCb/PCb_Venus_10bar.trn --> spectrum_files/PCb_Venus_10bar.trn\n",
      "original_files/PCb/PCb_Venus_10bar_toa.flx --> spectrum_files/PCb_Venus_10bar_toa.flx\n",
      "original_files/PCb/PCb_Venus_90bar.trn --> spectrum_files/PCb_Venus_90bar.trn\n",
      "original_files/PCb/PCb_Venus_90bar_toa.flx --> spectrum_files/PCb_Venus_90bar_toa.flx\n",
      "original_files/PCb/profile_Earth_proxb_.pt_cirrus_hitran2012_o4_noh2co_187Kstrat_toa.flx --> spectrum_files/profile_Earth_proxb_.pt_cirrus_hitran2012_o4_noh2co_187Kstrat_toa.flx\n",
      "original_files/PCb/profile_Earth_proxb_.pt_hitran2012_o4_noh2co_187Kstrat.trn --> spectrum_files/profile_Earth_proxb_.pt_hitran2012_o4_noh2co_187Kstrat.trn\n",
      "original_files/PCb/profile_Earth_proxb_.pt_hitran2012_o4_noh2co_187Kstrat_toa.flx --> spectrum_files/profile_Earth_proxb_.pt_hitran2012_o4_noh2co_187Kstrat_toa.flx\n",
      "original_files/PCb/profile_Earth_proxb_.pt_stratocum_hitran2012_o4_noh2co_187Kstrat_toa.flx --> spectrum_files/profile_Earth_proxb_.pt_stratocum_hitran2012_o4_noh2co_187Kstrat_toa.flx\n",
      "original_files/PCb/profile_Earth_proxb_combined_toa.flx --> spectrum_files/profile_Earth_proxb_combined_toa.flx\n",
      "original_files/PCb/smart_gao_1bar_FINAL.trn --> spectrum_files/smart_gao_1bar_FINAL.trn\n",
      "original_files/PCb/smart_gao_1bar_FINAL_toa.flx --> spectrum_files/smart_gao_1bar_FINAL_toa.flx\n"
     ]
    }
   ],
   "source": [
    "file_list = os.listdir(new_files_dir)\n",
    "new_list = []\n",
    "new_tag_list = []\n",
    "\n",
    "for item in file_list:\n",
    "    \n",
    "    tag = os.path.join(new_files_dir, item)\n",
    "    \n",
    "    # Is this a new file\n",
    "    if item.endswith(\".flx\") or item.endswith(\".trn\"):\n",
    "        \n",
    "        # Append the new file loc to the list \n",
    "        new_list.append(tag)\n",
    "        \n",
    "        # Create new name for moved files\n",
    "        new_tag = os.path.join(spec_data_dir, os.path.split(item)[-1])\n",
    "        \n",
    "        # Rename new files to move them into spectral database directory\n",
    "        os.rename(tag, new_tag)\n",
    "        \n",
    "        # Append newest tags to list\n",
    "        new_tag_list.append(new_tag)\n",
    "        \n",
    "        print(\"%s --> %s\" %(tag, new_tag))"
   ]
  },
  {
   "cell_type": "markdown",
   "metadata": {},
   "source": [
    "**STOP: Now go and add the file names and metadata to the 'make_spectrum_csv.py' file**"
   ]
  },
  {
   "cell_type": "markdown",
   "metadata": {},
   "source": [
    "(Delete new spectrum files, if need be:)"
   ]
  },
  {
   "cell_type": "code",
   "execution_count": 25,
   "metadata": {
    "collapsed": false
   },
   "outputs": [],
   "source": [
    "# Uncomment to execute\n",
    "\"\"\" \n",
    "for item in new_tag_list:\n",
    "    # Delete new files, if needed\n",
    "    os.remove(tag)\n",
    "\"\"\";"
   ]
  },
  {
   "cell_type": "markdown",
   "metadata": {},
   "source": [
    "## Generating a new csv spectral database for Tableau"
   ]
  },
  {
   "cell_type": "markdown",
   "metadata": {},
   "source": [
    "Let's first improt some functions:"
   ]
  },
  {
   "cell_type": "code",
   "execution_count": 1,
   "metadata": {
    "collapsed": false
   },
   "outputs": [],
   "source": [
    "from spectrum_class import write_spectra_csv, write_spectra_meta_csv\n",
    "from datetime import datetime"
   ]
  },
  {
   "cell_type": "markdown",
   "metadata": {},
   "source": [
    "Importing `spectra` will load the files into a giant table in memory:"
   ]
  },
  {
   "cell_type": "code",
   "execution_count": null,
   "metadata": {
    "collapsed": false,
    "scrolled": true
   },
   "outputs": [
    {
     "name": "stdout",
     "output_type": "stream",
     "text": [
      "Direct, Sun, Mars, Present-day Mars, Generated using SMART\n",
      "Direct, Sun, Segura Earth, Clearsky; Ocean surface, 0.1 PAL O2\n",
      "Direct, Sun, Segura Earth, Clearsky; Ocean surface, 1 PAL O2\n",
      "Direct, F2V, Segura Earth, Clearsky; Ocean surface, 1 PAL O2\n",
      "Direct, G2V, Segura Earth, Clearsky; Ocean surface, 0.1 PAL O2; 20 ppm CH4\n",
      "Direct, G2V, Segura Earth, Clearsky; Ocean surface, 0.1 PAL O2; 100 ppm CH4\n",
      "Direct, K2V, Segura Earth, Clearsky; Ocean surface, 1 PAL O2\n",
      "Direct, EK Draconis (G0V), Abiotic O2 & O3; High CO2, Clearsky; Ocean surface, IR; 2 bar CO2\n",
      "Direct, EK Draconis (G0V), Abiotic O2 & O3; High CO2, Clearsky; Ocean surface, Vis; 2 bar CO2\n",
      "Direct, EK Draconis (G0V), Abiotic O2 & O3; High CO2, Clearsky; Ocean surface, IR; 0.2 bar CO2\n",
      "Direct, EK Draconis (G0V), Abiotic O2 & O3; High CO2, Clearsky; Ocean surface, Vis; 0.2 bar CO2\n",
      "Direct, EK Draconis (G0V), Abiotic O2 & O3; High CO2, Clearsky; Ocean surface, IR; 0.02 bar CO2\n",
      "Direct, EK Draconis (G0V), Abiotic O2 & O3; High CO2, Clearsky; Ocean surface, Vis; 0.02 bar CO2\n",
      "Direct, Sun, Abiotic O2 & O3; High CO2, Clearsky; Ocean surface, IR; 0.2 bar CO2\n",
      "Direct, Sun, Abiotic O2 & O3; High CO2, Clearsky; Ocean surface, Vis; 0.2 bar CO2\n",
      "Direct, Sun, Bacterial Surface Earth, Earth with Serratia Marscens Surface, Modern Earth Atmosphere\n",
      "Direct, Sun, Bacterial Surface Earth, Earth with Rubrobacter Radiotolerans Surface, Modern Earth Atmosphere\n",
      "Direct, Sun, Bacterial Surface Earth, Earth with Rhodopseudomonas Palustris Surface, Modern Earth Atmosphere\n",
      "Direct, Sun, Bacterial Surface Earth, Earth with Rhodobacter Sphaeroides Surface, Modern Earth Atmosphere\n",
      "Direct, Sun, Bacterial Surface Earth, Earth with Phaeobacter Inhibens Surface, Modern Earth Atmosphere\n",
      "Direct, Sun, Bacterial Surface Earth, Earth with Micrococcus Luteus Surface, Modern Earth Atmosphere\n",
      "Direct, Sun, Bacterial Surface Earth, Earth with Janthinobacterium Lividum Surface, Modern Earth Atmosphere\n",
      "Direct, Sun, Bacterial Surface Earth, Earth with Halobacterium Salinarum Surface, Modern Earth Atmosphere\n",
      "Direct, Sun, Bacterial Surface Earth, Earth with Deinoccocus Radiodurans Surface, Modern Earth Atmosphere\n",
      "Direct, Sun, Bacterial Surface Earth, Earth with Chlorobium Tepidum Surface, Modern Earth Atmosphere\n",
      "Direct, Sun, Bacterial Surface Earth, Earth with Brevibacterium Aurantiacum Surface, Modern Earth Atmosphere\n",
      "Direct, Sun, Material Surface Earth, Earth with Snow Surface, Modern Earth Atmosphere\n",
      "Direct, Sun, Material Surface Earth, Earth with Red Algae Water Surface, Modern Earth Atmosphere\n",
      "Direct, Sun, Material Surface Earth, Earth with Ocean Surface, Modern Earth Atmosphere\n",
      "Direct, Sun, Material Surface Earth, Earth with Limestone Surface, Modern Earth Atmosphere\n",
      "Direct, Sun, Material Surface Earth, Earth with Kaolinite Soil Surface, Modern Earth Atmosphere\n",
      "Direct, Sun, Material Surface Earth, Earth with Halophile Surface, Modern Earth Atmosphere\n",
      "Direct, Sun, Material Surface Earth, Earth with Halite Surface, Modern Earth Atmosphere\n",
      "Direct, Sun, Material Surface Earth, Earth with Gypsum Surface, Modern Earth Atmosphere\n",
      "Direct, Sun, Material Surface Earth, Earth with Grass Surface, Modern Earth Atmosphere\n",
      "Direct, Sun, Material Surface Earth, Earth with Conifers Surface, Modern Earth Atmosphere\n",
      "Direct, Sun, Material Surface Earth, Earth with Basaltic Loam Surface, Modern Earth Atmosphere\n",
      "Direct, Sun, Material Surface Earth, Earth with Bacterial Mat Surface, Modern Earth Atmosphere\n",
      "Direct, Sun, Material Surface Earth, Earth with Acid Mine Drainage Surface, Modern Earth Atmosphere\n",
      "Direct, Sun, Earth, Earth Spectrum at Quadrature, True disk-integrated Earth\n",
      "Direct, AD Leo (M3.5V), Earth, Quiet star; No clouds; 100% Ocean, 1 PAL O2\n",
      "Direct, AD Leo (M3.5V), Earth, Active star; No clouds; 100% Ocean, 1 PAL O2\n",
      "Direct, Sun, High CO2; Low CH4, 50% CO2 with low volcanic outgassing of reduced gases (H2), 100% Ocean; No clouds\n",
      "Direct, Epsilon Eridani (K2V), High CO2; Low CH4, 50% CO2 with low volcanic outgassing of reduced gases (H2), 100% Ocean; No clouds\n",
      "Direct, GJ 876 (M4V), High CO2; Low CH4, 50% CO2 with low volcanic outgassing of reduced gases (H2), 100% Ocean; No clouds\n",
      "Direct, Sigma Bootis (F2V), High CO2; Low CH4, 50% CO2 with low volcanic outgassing of reduced gases (H2), 100% Ocean; No clouds\n",
      "Direct, AD Leo (M3.5V), High CO2; Low CH4, 50% CO2 with low volcanic outgassing of reduced gases (H2), 100% Ocean; No clouds\n",
      "Direct, GJ 1214, GJ 1214b, 100X Solar Metallicity,  \n",
      "Direct, GJ 1214, GJ 1214b, Solar Metallicity,  \n",
      "Direct, Sun, Venus, Venus nightside, Modern Solar System\n",
      "Direct, Sun, Venus, Venus dayside, Modern Solar System\n",
      "Direct, Sun, Archean Earth, Hazy Archean Earth orbiting the modern Sun, 1 bar; 1% CO2; 0.2% CH4\n",
      "Direct, Epsilon Eridani (K2V), Archean Earth, Hazy Archean Earth orbiting K2V star, 1 bar; 1% CO2; 0.3% CH4\n",
      "Direct, Epsilon Eridani (K2V), Archean Earth, Haze-free Archean Earth orbiting K2V star, 1 bar; 1% CO2; 0.2% CH4\n",
      "Direct, GJ 876 (M4V), Archean Earth, Hazy Archean Earth orbiting GJ 876, 1 bar; 1% CO2; 0.2% CH4\n",
      "Direct, Sigma Bootis (F2V), Archean Earth, Haze-free Archean Earth orbiting F2V star, 1 bar; 1% CO2; 0.2% CH4\n",
      "Direct, Archean Sun, Archean Earth, Hazy Archean Earth orbiting the Archean Sun, 1 bar; 1% CO2; 0.2% CH4\n",
      "Direct, AD Leo (M3.5V), Archean Earth, Haze-free Archean Earth orbiting AD Leo, 1 bar; 1% CO2; 0.2% CH4\n",
      "Direct, AD Leo (M3.5V), Archean Earth, Hazy Archean Earth orbiting AD Leo, 1 bar; 1% CO2; 0.9% CH4\n",
      "Direct, Archean Sun, Archean Earth, Thin haze; Stratocumulus cloud, 1 bar; 2% CO2; 0.32% CH4; thin haze; stratocumulus clouds\n",
      "Direct, Archean Sun, Archean Earth, Thin haze; Cirrus cloud, 1 bar; 2% CO2; 0.32% CH4; thin haze; cirrus clouds\n",
      "Direct, Archean Sun, Archean Earth, Thin haze; No cloud, 1 bar; 2% CO2; 0.32% CH4; thin haze\n",
      "Direct, Archean Sun, Archean Earth, Thick haze; Stratocumulus cloud, 1 bar; 2% CO2; 0.37% CH4; thick haze; stratocumulus clouds\n",
      "Direct, Archean Sun, Archean Earth, Thick haze; Cirrus cloud, 1 bar; 2% CO2; 0.37% CH4; thick haze; cirrus clouds\n",
      "Direct, Archean Sun, Archean Earth, Thick haze; No cloud, 1 bar; 2% CO2; 0.37% CH4; thick haze\n",
      "Direct, Proterozoic Sun, Proterozoic Earth, Low oxygen, 1 bar; 1% CO2; 0.03% CH4; 1% PAL O2\n",
      "Direct, Proterozoic Sun, Proterozoic Earth, High oxygen, 1 bar; 1% CO2; 0.03% CH4; 0.1% PAL O2\n",
      "Direct, Archean Sun, Archean Earth, No haze; No cloud, 1 bar; 2% CO2; 0.2% CH4; haze-free\n",
      "Direct, Archean Sun, Archean Earth, No haze; Cirrus clouds, 1 bar; 2% CO2; 0.2% CH4; haze-free; cirrus clouds\n",
      "Direct, Archean Sun, Archean Earth, No haze; Stratocumulus clouds, 1 bar; 2% CO2; 0.2% CH4; haze-free; stratocumulus clouds\n",
      "Direct, GJ 876 (M4V), FP Earth, High O2, 1 bar\n",
      "Direct, GJ 876 (M4V), FP Earth, High O2, 10 bar\n",
      "Direct, GJ 876 (M4V), FP Earth, High O2, 100 bar\n",
      "Direct, GJ 876 (M4V), FP Earth, Photolysis of CO2, 1 bar\n",
      "Direct, AD Leo (M3.5V), Earth, Segura, 1 bar\n",
      "Direct, Proxima Centauri, b, High O2 Dry, 10 bar\n",
      "Direct, Proxima Centauri, b, High O2 Wet, 10 bar\n",
      "Direct, Proxima Centauri, b, Evolved O2, CO2, 10 bar\n",
      "Direct, Proxima Centauri, b, Evolved O2, CO2, 90 bar\n",
      "Direct, Proxima Centauri, b, Venus-like, 10 bar; Cloudy\n",
      "Direct, Proxima Centauri, b, Venus-like, 90 bar; Cloudy\n",
      "Direct, Proxima Centauri, b, FP Earth, 1 bar; CO2/O2/CO\n",
      "Direct, Proxima Centauri, b, Archean, No Haze; No Clouds\n",
      "Direct, Proxima Centauri, b, Archean, Haze; No Clouds\n",
      "Direct, Proxima Centauri, b, Archean, No Haze; Cirrus Cloud\n",
      "Direct, Proxima Centauri, b, Archean, Haze; Cirrus Cloud\n",
      "Direct, Proxima Centauri, b, Archean, No Haze; Stratocumulus Cloud\n",
      "Direct, Proxima Centauri, b, Archean, Haze; Stratocumulus Cloud\n",
      "Direct, Proxima Centauri, b, Archean, No Haze; 50% No Cloud; 25% Cirrus; 25% Stratocumulus\n",
      "Direct, Proxima Centauri, b, Archean, Haze; 50% No Cloud; 25% Cirrus; 25% Stratocumulus\n",
      "Direct, Proxima Centauri, b, Earth-like, Cirrus Cloud\n",
      "Direct, Proxima Centauri, b, Earth-like, Clear\n",
      "Direct, Proxima Centauri, b, Earth-like, Stratocumulus Cloud\n",
      "Direct, Proxima Centauri, b, Earth-like, 50% Clear; 25% Cirrus; 25% Stratocumulus\n",
      "Transmission, Sun, Archean Earth, Hazy Archean Earth orbiting the modern Sun, 1 bar; 1% CO2; 0.2% CH4\n",
      "Transmission, Epsilon Eridani (K2V), Archean Earth, Hazy Archean Earth orbiting K2V star, 1 bar; 1% CO2; 0.3% CH4\n",
      "Transmission, Epsilon Eridani (K2V), Archean Earth, Haze-free Archean Earth orbiting K2V star, 1 bar; 1% CO2; 0.2% CH4\n",
      "Transmission, GJ 876 (M4V), Archean Earth, Hazy Archean Earth orbiting GJ 876, 1 bar; 1% CO2; 0.2% CH4\n",
      "Transmission, Sigma Bootis (F2V), Archean Earth, Haze-free Archean Earth orbiting F2V star, 1 bar; 1% CO2; 0.2% CH4\n",
      "Transmission, Archean Sun, Archean Earth, Hazy Archean Earth orbiting the Archean Sun, 1 bar; 1% CO2; 0.2% CH4\n",
      "Transmission, AD Leo (M3.5V), Archean Earth, Haze-free Archean Earth orbiting AD Leo, 1 bar; 1% CO2; 0.2% CH4\n",
      "Transmission, AD Leo (M3.5V), Archean Earth, Hazy Archean Earth orbiting AD Leo, 1 bar; 1% CO2; 0.9% CH4\n",
      "Transmission, Archean Sun, Archean Earth, Thin haze, 1 bar; 2% CO2; 0.32% CH4; thin haze\n",
      "Transmission, Archean Sun, Archean Earth, Thick haze, 1 bar; 2% CO2; 0.37% CH4; thick haze\n",
      "Transmission, Archean Sun, Archean Earth, No haze, 1 bar; 2% CO2; 0.2% CH4; haze-free\n"
     ]
    }
   ],
   "source": [
    "from make_spectrum_csv import spectra"
   ]
  },
  {
   "cell_type": "markdown",
   "metadata": {},
   "source": [
    "Now we'll make the new spectra and metadata csvs"
   ]
  },
  {
   "cell_type": "code",
   "execution_count": null,
   "metadata": {
    "collapsed": false,
    "scrolled": false
   },
   "outputs": [],
   "source": [
    "# Get current date to avoid overwritting an old database\n",
    "now = datetime.now()\n",
    "datetag = now.strftime(\"%m%d%y\")\n",
    "new_name = \"csv/spectra_small_%s.csv\" %datetag\n",
    "new_meta = \"csv/spectra_meta_%s.csv\" %datetag\n",
    "\n",
    "\n",
    "#Write spectra to csv\n",
    "write_spectra_csv(spectra,\n",
    "                  savename=new_name,\n",
    "                  lammin=0.2, lammax=25.0,\n",
    "                  dynamic_nth=True, fn=5000)\n",
    "\n",
    "\n",
    "#Write metadata to csv\n",
    "write_spectra_meta_csv(spectra, savename=new_meta)"
   ]
  },
  {
   "cell_type": "code",
   "execution_count": null,
   "metadata": {
    "collapsed": true
   },
   "outputs": [],
   "source": []
  }
 ],
 "metadata": {
  "anaconda-cloud": {},
  "kernelspec": {
   "display_name": "Python [default]",
   "language": "python",
   "name": "python2"
  },
  "language_info": {
   "codemirror_mode": {
    "name": "ipython",
    "version": 2
   },
   "file_extension": ".py",
   "mimetype": "text/x-python",
   "name": "python",
   "nbconvert_exporter": "python",
   "pygments_lexer": "ipython2",
   "version": "2.7.12"
  }
 },
 "nbformat": 4,
 "nbformat_minor": 1
}
